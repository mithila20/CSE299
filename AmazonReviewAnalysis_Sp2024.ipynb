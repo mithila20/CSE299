{
  "cells": [
    {
      "cell_type": "markdown",
      "metadata": {
        "id": "view-in-github",
        "colab_type": "text"
      },
      "source": [
        "<a href=\"https://colab.research.google.com/github/mithila20/CSE299/blob/main/AmazonReviewAnalysis_Sp2024.ipynb\" target=\"_parent\"><img src=\"https://colab.research.google.com/assets/colab-badge.svg\" alt=\"Open In Colab\"/></a>"
      ]
    },
    {
      "cell_type": "code",
      "source": [
        "!git clone https://github.com/imostafizur/Feedback_Analysis.git"
      ],
      "metadata": {
        "colab": {
          "base_uri": "https://localhost:8080/"
        },
        "id": "XBfLW7I-rmmL",
        "outputId": "f67c8c98-dfc0-4943-f7f4-a5c2d4ae6ec9"
      },
      "execution_count": 1,
      "outputs": [
        {
          "output_type": "stream",
          "name": "stdout",
          "text": [
            "Cloning into 'Feedback_Analysis'...\n",
            "remote: Enumerating objects: 100, done.\u001b[K\n",
            "remote: Counting objects: 100% (100/100), done.\u001b[K\n",
            "remote: Compressing objects: 100% (72/72), done.\u001b[K\n",
            "remote: Total 100 (delta 62), reused 46 (delta 26), pack-reused 0\u001b[K\n",
            "Receiving objects: 100% (100/100), 17.54 MiB | 15.73 MiB/s, done.\n",
            "Resolving deltas: 100% (62/62), done.\n",
            "Updating files: 100% (19/19), done.\n"
          ]
        }
      ]
    },
    {
      "cell_type": "markdown",
      "metadata": {
        "id": "NXrMH7WVrkS-"
      },
      "source": [
        "### 1. Importing the libraries"
      ]
    },
    {
      "cell_type": "code",
      "execution_count": 2,
      "metadata": {
        "id": "IzxfGE9ErkS_"
      },
      "outputs": [],
      "source": [
        "# Import libraries\n",
        "import pandas as pd\n",
        "import numpy as np\n",
        "import matplotlib.pyplot as plt\n",
        "import seaborn as sns\n",
        "import nltk\n",
        "import string\n",
        "import re\n",
        "import warnings\n",
        "warnings.filterwarnings(\"ignore\", category=DeprecationWarning)\n",
        "%matplotlib inline\n"
      ]
    },
    {
      "cell_type": "markdown",
      "metadata": {
        "id": "juvNVZJ8rkTB"
      },
      "source": [
        "### Load Datasets"
      ]
    },
    {
      "cell_type": "code",
      "execution_count": 3,
      "metadata": {
        "id": "f64pJ916rkTC"
      },
      "outputs": [],
      "source": [
        "df = pd.read_csv('/content/Feedback_Analysis/Raw Dataset/20191226-items.csv')"
      ]
    },
    {
      "cell_type": "markdown",
      "metadata": {
        "id": "lUOYI1vhrkTC"
      },
      "source": [
        "### Product Mapping"
      ]
    },
    {
      "cell_type": "code",
      "execution_count": 4,
      "metadata": {
        "id": "CPbSr-YKrkTC"
      },
      "outputs": [],
      "source": [
        "# create a new dataframe with columns for product ID, brand, and model\n",
        "product_mapping = df[['asin', 'brand', 'title']].copy()\n",
        "\n",
        "# rename the columns to match the desired format\n",
        "product_mapping = product_mapping.rename(\n",
        "    columns={'asin': 'product_id', 'brand': 'product_brand', 'title': 'product_model_name'})\n",
        "\n",
        "# save the product mapping as a CSV file\n",
        "product_mapping.to_csv('/content/Feedback_Analysis/Raw Dataset/product_mapping.csv', index=False)\n"
      ]
    },
    {
      "cell_type": "code",
      "execution_count": 5,
      "metadata": {
        "colab": {
          "base_uri": "https://localhost:8080/",
          "height": 539
        },
        "id": "2h8rTu8DrkTD",
        "outputId": "f5a05deb-4c8e-49f1-a305-c462a390e16d"
      },
      "outputs": [
        {
          "output_type": "execute_result",
          "data": {
            "text/plain": [
              "         asin     brand                                              title  \\\n",
              "0  B0000SX2UC       NaN  Dual-Band / Tri-Mode Sprint PCS Phone w/ Voice...   \n",
              "1  B0009N5L7K  Motorola                                Motorola I265 phone   \n",
              "2  B000SKTZ0S  Motorola  MOTOROLA C168i AT&T CINGULAR PREPAID GOPHONE C...   \n",
              "3  B001AO4OUC  Motorola              Motorola i335 Cell Phone Boost Mobile   \n",
              "4  B001DCJAJG  Motorola      Motorola V365 no contract cellular phone AT&T   \n",
              "\n",
              "                                                 url  \\\n",
              "0  https://www.amazon.com/Dual-Band-Tri-Mode-Acti...   \n",
              "1  https://www.amazon.com/Motorola-i265-I265-phon...   \n",
              "2  https://www.amazon.com/MOTOROLA-C168i-CINGULAR...   \n",
              "3  https://www.amazon.com/Motorola-i335-Phone-Boo...   \n",
              "4  https://www.amazon.com/Motorola-V365-contract-...   \n",
              "\n",
              "                                               image  rating  \\\n",
              "0  https://m.media-amazon.com/images/I/2143EBQ210...     3.0   \n",
              "1  https://m.media-amazon.com/images/I/419WBAVDAR...     3.0   \n",
              "2  https://m.media-amazon.com/images/I/71b+q3ydkI...     2.7   \n",
              "3  https://m.media-amazon.com/images/I/710UO8gdT+...     3.3   \n",
              "4  https://m.media-amazon.com/images/I/61LYNCVrrK...     3.1   \n",
              "\n",
              "                                           reviewUrl  totalReviews   price  \\\n",
              "0  https://www.amazon.com/product-reviews/B0000SX2UC            14    0.00   \n",
              "1  https://www.amazon.com/product-reviews/B0009N5L7K             7   49.95   \n",
              "2  https://www.amazon.com/product-reviews/B000SKTZ0S            22   99.99   \n",
              "3  https://www.amazon.com/product-reviews/B001AO4OUC            21    0.00   \n",
              "4  https://www.amazon.com/product-reviews/B001DCJAJG            12  149.99   \n",
              "\n",
              "   originalPrice  \n",
              "0            0.0  \n",
              "1            0.0  \n",
              "2            0.0  \n",
              "3            0.0  \n",
              "4            0.0  "
            ],
            "text/html": [
              "\n",
              "  <div id=\"df-b47b4275-3a15-469b-bcfc-cea09342a0cb\" class=\"colab-df-container\">\n",
              "    <div>\n",
              "<style scoped>\n",
              "    .dataframe tbody tr th:only-of-type {\n",
              "        vertical-align: middle;\n",
              "    }\n",
              "\n",
              "    .dataframe tbody tr th {\n",
              "        vertical-align: top;\n",
              "    }\n",
              "\n",
              "    .dataframe thead th {\n",
              "        text-align: right;\n",
              "    }\n",
              "</style>\n",
              "<table border=\"1\" class=\"dataframe\">\n",
              "  <thead>\n",
              "    <tr style=\"text-align: right;\">\n",
              "      <th></th>\n",
              "      <th>asin</th>\n",
              "      <th>brand</th>\n",
              "      <th>title</th>\n",
              "      <th>url</th>\n",
              "      <th>image</th>\n",
              "      <th>rating</th>\n",
              "      <th>reviewUrl</th>\n",
              "      <th>totalReviews</th>\n",
              "      <th>price</th>\n",
              "      <th>originalPrice</th>\n",
              "    </tr>\n",
              "  </thead>\n",
              "  <tbody>\n",
              "    <tr>\n",
              "      <th>0</th>\n",
              "      <td>B0000SX2UC</td>\n",
              "      <td>NaN</td>\n",
              "      <td>Dual-Band / Tri-Mode Sprint PCS Phone w/ Voice...</td>\n",
              "      <td>https://www.amazon.com/Dual-Band-Tri-Mode-Acti...</td>\n",
              "      <td>https://m.media-amazon.com/images/I/2143EBQ210...</td>\n",
              "      <td>3.0</td>\n",
              "      <td>https://www.amazon.com/product-reviews/B0000SX2UC</td>\n",
              "      <td>14</td>\n",
              "      <td>0.00</td>\n",
              "      <td>0.0</td>\n",
              "    </tr>\n",
              "    <tr>\n",
              "      <th>1</th>\n",
              "      <td>B0009N5L7K</td>\n",
              "      <td>Motorola</td>\n",
              "      <td>Motorola I265 phone</td>\n",
              "      <td>https://www.amazon.com/Motorola-i265-I265-phon...</td>\n",
              "      <td>https://m.media-amazon.com/images/I/419WBAVDAR...</td>\n",
              "      <td>3.0</td>\n",
              "      <td>https://www.amazon.com/product-reviews/B0009N5L7K</td>\n",
              "      <td>7</td>\n",
              "      <td>49.95</td>\n",
              "      <td>0.0</td>\n",
              "    </tr>\n",
              "    <tr>\n",
              "      <th>2</th>\n",
              "      <td>B000SKTZ0S</td>\n",
              "      <td>Motorola</td>\n",
              "      <td>MOTOROLA C168i AT&amp;T CINGULAR PREPAID GOPHONE C...</td>\n",
              "      <td>https://www.amazon.com/MOTOROLA-C168i-CINGULAR...</td>\n",
              "      <td>https://m.media-amazon.com/images/I/71b+q3ydkI...</td>\n",
              "      <td>2.7</td>\n",
              "      <td>https://www.amazon.com/product-reviews/B000SKTZ0S</td>\n",
              "      <td>22</td>\n",
              "      <td>99.99</td>\n",
              "      <td>0.0</td>\n",
              "    </tr>\n",
              "    <tr>\n",
              "      <th>3</th>\n",
              "      <td>B001AO4OUC</td>\n",
              "      <td>Motorola</td>\n",
              "      <td>Motorola i335 Cell Phone Boost Mobile</td>\n",
              "      <td>https://www.amazon.com/Motorola-i335-Phone-Boo...</td>\n",
              "      <td>https://m.media-amazon.com/images/I/710UO8gdT+...</td>\n",
              "      <td>3.3</td>\n",
              "      <td>https://www.amazon.com/product-reviews/B001AO4OUC</td>\n",
              "      <td>21</td>\n",
              "      <td>0.00</td>\n",
              "      <td>0.0</td>\n",
              "    </tr>\n",
              "    <tr>\n",
              "      <th>4</th>\n",
              "      <td>B001DCJAJG</td>\n",
              "      <td>Motorola</td>\n",
              "      <td>Motorola V365 no contract cellular phone AT&amp;T</td>\n",
              "      <td>https://www.amazon.com/Motorola-V365-contract-...</td>\n",
              "      <td>https://m.media-amazon.com/images/I/61LYNCVrrK...</td>\n",
              "      <td>3.1</td>\n",
              "      <td>https://www.amazon.com/product-reviews/B001DCJAJG</td>\n",
              "      <td>12</td>\n",
              "      <td>149.99</td>\n",
              "      <td>0.0</td>\n",
              "    </tr>\n",
              "  </tbody>\n",
              "</table>\n",
              "</div>\n",
              "    <div class=\"colab-df-buttons\">\n",
              "\n",
              "  <div class=\"colab-df-container\">\n",
              "    <button class=\"colab-df-convert\" onclick=\"convertToInteractive('df-b47b4275-3a15-469b-bcfc-cea09342a0cb')\"\n",
              "            title=\"Convert this dataframe to an interactive table.\"\n",
              "            style=\"display:none;\">\n",
              "\n",
              "  <svg xmlns=\"http://www.w3.org/2000/svg\" height=\"24px\" viewBox=\"0 -960 960 960\">\n",
              "    <path d=\"M120-120v-720h720v720H120Zm60-500h600v-160H180v160Zm220 220h160v-160H400v160Zm0 220h160v-160H400v160ZM180-400h160v-160H180v160Zm440 0h160v-160H620v160ZM180-180h160v-160H180v160Zm440 0h160v-160H620v160Z\"/>\n",
              "  </svg>\n",
              "    </button>\n",
              "\n",
              "  <style>\n",
              "    .colab-df-container {\n",
              "      display:flex;\n",
              "      gap: 12px;\n",
              "    }\n",
              "\n",
              "    .colab-df-convert {\n",
              "      background-color: #E8F0FE;\n",
              "      border: none;\n",
              "      border-radius: 50%;\n",
              "      cursor: pointer;\n",
              "      display: none;\n",
              "      fill: #1967D2;\n",
              "      height: 32px;\n",
              "      padding: 0 0 0 0;\n",
              "      width: 32px;\n",
              "    }\n",
              "\n",
              "    .colab-df-convert:hover {\n",
              "      background-color: #E2EBFA;\n",
              "      box-shadow: 0px 1px 2px rgba(60, 64, 67, 0.3), 0px 1px 3px 1px rgba(60, 64, 67, 0.15);\n",
              "      fill: #174EA6;\n",
              "    }\n",
              "\n",
              "    .colab-df-buttons div {\n",
              "      margin-bottom: 4px;\n",
              "    }\n",
              "\n",
              "    [theme=dark] .colab-df-convert {\n",
              "      background-color: #3B4455;\n",
              "      fill: #D2E3FC;\n",
              "    }\n",
              "\n",
              "    [theme=dark] .colab-df-convert:hover {\n",
              "      background-color: #434B5C;\n",
              "      box-shadow: 0px 1px 3px 1px rgba(0, 0, 0, 0.15);\n",
              "      filter: drop-shadow(0px 1px 2px rgba(0, 0, 0, 0.3));\n",
              "      fill: #FFFFFF;\n",
              "    }\n",
              "  </style>\n",
              "\n",
              "    <script>\n",
              "      const buttonEl =\n",
              "        document.querySelector('#df-b47b4275-3a15-469b-bcfc-cea09342a0cb button.colab-df-convert');\n",
              "      buttonEl.style.display =\n",
              "        google.colab.kernel.accessAllowed ? 'block' : 'none';\n",
              "\n",
              "      async function convertToInteractive(key) {\n",
              "        const element = document.querySelector('#df-b47b4275-3a15-469b-bcfc-cea09342a0cb');\n",
              "        const dataTable =\n",
              "          await google.colab.kernel.invokeFunction('convertToInteractive',\n",
              "                                                    [key], {});\n",
              "        if (!dataTable) return;\n",
              "\n",
              "        const docLinkHtml = 'Like what you see? Visit the ' +\n",
              "          '<a target=\"_blank\" href=https://colab.research.google.com/notebooks/data_table.ipynb>data table notebook</a>'\n",
              "          + ' to learn more about interactive tables.';\n",
              "        element.innerHTML = '';\n",
              "        dataTable['output_type'] = 'display_data';\n",
              "        await google.colab.output.renderOutput(dataTable, element);\n",
              "        const docLink = document.createElement('div');\n",
              "        docLink.innerHTML = docLinkHtml;\n",
              "        element.appendChild(docLink);\n",
              "      }\n",
              "    </script>\n",
              "  </div>\n",
              "\n",
              "\n",
              "<div id=\"df-21293856-2e83-4dca-9e7b-158d863e38ca\">\n",
              "  <button class=\"colab-df-quickchart\" onclick=\"quickchart('df-21293856-2e83-4dca-9e7b-158d863e38ca')\"\n",
              "            title=\"Suggest charts\"\n",
              "            style=\"display:none;\">\n",
              "\n",
              "<svg xmlns=\"http://www.w3.org/2000/svg\" height=\"24px\"viewBox=\"0 0 24 24\"\n",
              "     width=\"24px\">\n",
              "    <g>\n",
              "        <path d=\"M19 3H5c-1.1 0-2 .9-2 2v14c0 1.1.9 2 2 2h14c1.1 0 2-.9 2-2V5c0-1.1-.9-2-2-2zM9 17H7v-7h2v7zm4 0h-2V7h2v10zm4 0h-2v-4h2v4z\"/>\n",
              "    </g>\n",
              "</svg>\n",
              "  </button>\n",
              "\n",
              "<style>\n",
              "  .colab-df-quickchart {\n",
              "      --bg-color: #E8F0FE;\n",
              "      --fill-color: #1967D2;\n",
              "      --hover-bg-color: #E2EBFA;\n",
              "      --hover-fill-color: #174EA6;\n",
              "      --disabled-fill-color: #AAA;\n",
              "      --disabled-bg-color: #DDD;\n",
              "  }\n",
              "\n",
              "  [theme=dark] .colab-df-quickchart {\n",
              "      --bg-color: #3B4455;\n",
              "      --fill-color: #D2E3FC;\n",
              "      --hover-bg-color: #434B5C;\n",
              "      --hover-fill-color: #FFFFFF;\n",
              "      --disabled-bg-color: #3B4455;\n",
              "      --disabled-fill-color: #666;\n",
              "  }\n",
              "\n",
              "  .colab-df-quickchart {\n",
              "    background-color: var(--bg-color);\n",
              "    border: none;\n",
              "    border-radius: 50%;\n",
              "    cursor: pointer;\n",
              "    display: none;\n",
              "    fill: var(--fill-color);\n",
              "    height: 32px;\n",
              "    padding: 0;\n",
              "    width: 32px;\n",
              "  }\n",
              "\n",
              "  .colab-df-quickchart:hover {\n",
              "    background-color: var(--hover-bg-color);\n",
              "    box-shadow: 0 1px 2px rgba(60, 64, 67, 0.3), 0 1px 3px 1px rgba(60, 64, 67, 0.15);\n",
              "    fill: var(--button-hover-fill-color);\n",
              "  }\n",
              "\n",
              "  .colab-df-quickchart-complete:disabled,\n",
              "  .colab-df-quickchart-complete:disabled:hover {\n",
              "    background-color: var(--disabled-bg-color);\n",
              "    fill: var(--disabled-fill-color);\n",
              "    box-shadow: none;\n",
              "  }\n",
              "\n",
              "  .colab-df-spinner {\n",
              "    border: 2px solid var(--fill-color);\n",
              "    border-color: transparent;\n",
              "    border-bottom-color: var(--fill-color);\n",
              "    animation:\n",
              "      spin 1s steps(1) infinite;\n",
              "  }\n",
              "\n",
              "  @keyframes spin {\n",
              "    0% {\n",
              "      border-color: transparent;\n",
              "      border-bottom-color: var(--fill-color);\n",
              "      border-left-color: var(--fill-color);\n",
              "    }\n",
              "    20% {\n",
              "      border-color: transparent;\n",
              "      border-left-color: var(--fill-color);\n",
              "      border-top-color: var(--fill-color);\n",
              "    }\n",
              "    30% {\n",
              "      border-color: transparent;\n",
              "      border-left-color: var(--fill-color);\n",
              "      border-top-color: var(--fill-color);\n",
              "      border-right-color: var(--fill-color);\n",
              "    }\n",
              "    40% {\n",
              "      border-color: transparent;\n",
              "      border-right-color: var(--fill-color);\n",
              "      border-top-color: var(--fill-color);\n",
              "    }\n",
              "    60% {\n",
              "      border-color: transparent;\n",
              "      border-right-color: var(--fill-color);\n",
              "    }\n",
              "    80% {\n",
              "      border-color: transparent;\n",
              "      border-right-color: var(--fill-color);\n",
              "      border-bottom-color: var(--fill-color);\n",
              "    }\n",
              "    90% {\n",
              "      border-color: transparent;\n",
              "      border-bottom-color: var(--fill-color);\n",
              "    }\n",
              "  }\n",
              "</style>\n",
              "\n",
              "  <script>\n",
              "    async function quickchart(key) {\n",
              "      const quickchartButtonEl =\n",
              "        document.querySelector('#' + key + ' button');\n",
              "      quickchartButtonEl.disabled = true;  // To prevent multiple clicks.\n",
              "      quickchartButtonEl.classList.add('colab-df-spinner');\n",
              "      try {\n",
              "        const charts = await google.colab.kernel.invokeFunction(\n",
              "            'suggestCharts', [key], {});\n",
              "      } catch (error) {\n",
              "        console.error('Error during call to suggestCharts:', error);\n",
              "      }\n",
              "      quickchartButtonEl.classList.remove('colab-df-spinner');\n",
              "      quickchartButtonEl.classList.add('colab-df-quickchart-complete');\n",
              "    }\n",
              "    (() => {\n",
              "      let quickchartButtonEl =\n",
              "        document.querySelector('#df-21293856-2e83-4dca-9e7b-158d863e38ca button');\n",
              "      quickchartButtonEl.style.display =\n",
              "        google.colab.kernel.accessAllowed ? 'block' : 'none';\n",
              "    })();\n",
              "  </script>\n",
              "</div>\n",
              "    </div>\n",
              "  </div>\n"
            ],
            "application/vnd.google.colaboratory.intrinsic+json": {
              "type": "dataframe",
              "variable_name": "df",
              "summary": "{\n  \"name\": \"df\",\n  \"rows\": 720,\n  \"fields\": [\n    {\n      \"column\": \"asin\",\n      \"properties\": {\n        \"dtype\": \"string\",\n        \"num_unique_values\": 720,\n        \"samples\": [\n          \"B078KGP5K5\",\n          \"B075SPVK8D\",\n          \"B00F3JPKCG\"\n        ],\n        \"semantic_type\": \"\",\n        \"description\": \"\"\n      }\n    },\n    {\n      \"column\": \"brand\",\n      \"properties\": {\n        \"dtype\": \"category\",\n        \"num_unique_values\": 10,\n        \"samples\": [\n          \"OnePlus\",\n          \"Nokia\",\n          \"Apple\"\n        ],\n        \"semantic_type\": \"\",\n        \"description\": \"\"\n      }\n    },\n    {\n      \"column\": \"title\",\n      \"properties\": {\n        \"dtype\": \"string\",\n        \"num_unique_values\": 718,\n        \"samples\": [\n          \"Samsung Galaxy Note 5 SM-N920T 32GB Black Smartphone for T-Mobile\",\n          \"Sony Xperia L2, Unlocked, 32GB - Black (U.S. Warranty)\",\n          \"Samsung A157 Unlocked GSM Cell Phone with Internet Browser, 3G Capabilities, SMS & MMS and Speakerphone - Black\"\n        ],\n        \"semantic_type\": \"\",\n        \"description\": \"\"\n      }\n    },\n    {\n      \"column\": \"url\",\n      \"properties\": {\n        \"dtype\": \"string\",\n        \"num_unique_values\": 720,\n        \"samples\": [\n          \"https://www.amazon.com/Google-Unlocked-Octa-Core-12-2MP-Camera/dp/B078KGP5K5\",\n          \"https://www.amazon.com/Samsung-SM-N950U-Galaxy-Verizon-Smartphone/dp/B075SPVK8D\",\n          \"https://www.amazon.com/Nokia-Lumia-925-Black-16GB/dp/B00F3JPKCG\"\n        ],\n        \"semantic_type\": \"\",\n        \"description\": \"\"\n      }\n    },\n    {\n      \"column\": \"image\",\n      \"properties\": {\n        \"dtype\": \"string\",\n        \"num_unique_values\": 679,\n        \"samples\": [\n          \"https://m.media-amazon.com/images/I/51SYn1t0EKL._AC_UY218_ML3_.jpg\",\n          \"https://m.media-amazon.com/images/I/41djXmzL3oL._AC_UY218_ML3_.jpg\",\n          \"https://m.media-amazon.com/images/I/71PZg166cmL._AC_UY218_ML3_.jpg\"\n        ],\n        \"semantic_type\": \"\",\n        \"description\": \"\"\n      }\n    },\n    {\n      \"column\": \"rating\",\n      \"properties\": {\n        \"dtype\": \"number\",\n        \"std\": 0.7160138022072767,\n        \"min\": 1.0,\n        \"max\": 5.0,\n        \"num_unique_values\": 33,\n        \"samples\": [\n          1.5,\n          3.9,\n          4.3\n        ],\n        \"semantic_type\": \"\",\n        \"description\": \"\"\n      }\n    },\n    {\n      \"column\": \"reviewUrl\",\n      \"properties\": {\n        \"dtype\": \"string\",\n        \"num_unique_values\": 720,\n        \"samples\": [\n          \"https://www.amazon.com/product-reviews/B078KGP5K5\",\n          \"https://www.amazon.com/product-reviews/B075SPVK8D\",\n          \"https://www.amazon.com/product-reviews/B00F3JPKCG\"\n        ],\n        \"semantic_type\": \"\",\n        \"description\": \"\"\n      }\n    },\n    {\n      \"column\": \"totalReviews\",\n      \"properties\": {\n        \"dtype\": \"number\",\n        \"std\": 167,\n        \"min\": 1,\n        \"max\": 983,\n        \"num_unique_values\": 247,\n        \"samples\": [\n          49,\n          29,\n          304\n        ],\n        \"semantic_type\": \"\",\n        \"description\": \"\"\n      }\n    },\n    {\n      \"column\": \"price\",\n      \"properties\": {\n        \"dtype\": \"number\",\n        \"std\": 200.00844067750816,\n        \"min\": 0.0,\n        \"max\": 999.99,\n        \"num_unique_values\": 453,\n        \"samples\": [\n          398.0,\n          259.98,\n          350.0\n        ],\n        \"semantic_type\": \"\",\n        \"description\": \"\"\n      }\n    },\n    {\n      \"column\": \"originalPrice\",\n      \"properties\": {\n        \"dtype\": \"number\",\n        \"std\": 172.40536958811822,\n        \"min\": 0.0,\n        \"max\": 999.99,\n        \"num_unique_values\": 90,\n        \"samples\": [\n          155.0,\n          59.0,\n          799.99\n        ],\n        \"semantic_type\": \"\",\n        \"description\": \"\"\n      }\n    }\n  ]\n}"
            }
          },
          "metadata": {},
          "execution_count": 5
        }
      ],
      "source": [
        "df.head()"
      ]
    },
    {
      "cell_type": "code",
      "execution_count": 6,
      "metadata": {
        "colab": {
          "base_uri": "https://localhost:8080/"
        },
        "id": "SkrdnxKXrkTE",
        "outputId": "6aec2dc0-44ad-4551-b149-2dbb44604799"
      },
      "outputs": [
        {
          "output_type": "execute_result",
          "data": {
            "text/plain": [
              "Index(['asin', 'brand', 'title', 'url', 'image', 'rating', 'reviewUrl',\n",
              "       'totalReviews', 'price', 'originalPrice'],\n",
              "      dtype='object')"
            ]
          },
          "metadata": {},
          "execution_count": 6
        }
      ],
      "source": [
        "# print all the columns\n",
        "df.columns"
      ]
    },
    {
      "cell_type": "markdown",
      "metadata": {
        "id": "VYAWWSf7rkTE"
      },
      "source": [
        "### Rename the columns"
      ]
    },
    {
      "cell_type": "code",
      "execution_count": 7,
      "metadata": {
        "id": "DoDfKM_NrkTF"
      },
      "outputs": [],
      "source": [
        "# rename the columns\n",
        "df = df.rename(columns={'asin': 'product_id',\n",
        "               'title': 'product_model_name', 'brand': 'product_brand'})\n",
        "\n"
      ]
    },
    {
      "cell_type": "code",
      "execution_count": 8,
      "metadata": {
        "colab": {
          "base_uri": "https://localhost:8080/",
          "height": 382
        },
        "id": "KsRXgLHGrkTF",
        "outputId": "38512611-c5c7-41fb-fcf5-fad567e13074"
      },
      "outputs": [
        {
          "output_type": "execute_result",
          "data": {
            "text/plain": [
              "   product_id product_brand  \\\n",
              "0  B0000SX2UC           NaN   \n",
              "1  B0009N5L7K      Motorola   \n",
              "2  B000SKTZ0S      Motorola   \n",
              "3  B001AO4OUC      Motorola   \n",
              "4  B001DCJAJG      Motorola   \n",
              "\n",
              "                                  product_model_name  \\\n",
              "0  Dual-Band / Tri-Mode Sprint PCS Phone w/ Voice...   \n",
              "1                                Motorola I265 phone   \n",
              "2  MOTOROLA C168i AT&T CINGULAR PREPAID GOPHONE C...   \n",
              "3              Motorola i335 Cell Phone Boost Mobile   \n",
              "4      Motorola V365 no contract cellular phone AT&T   \n",
              "\n",
              "                                                 url  \\\n",
              "0  https://www.amazon.com/Dual-Band-Tri-Mode-Acti...   \n",
              "1  https://www.amazon.com/Motorola-i265-I265-phon...   \n",
              "2  https://www.amazon.com/MOTOROLA-C168i-CINGULAR...   \n",
              "3  https://www.amazon.com/Motorola-i335-Phone-Boo...   \n",
              "4  https://www.amazon.com/Motorola-V365-contract-...   \n",
              "\n",
              "                                               image  rating  \\\n",
              "0  https://m.media-amazon.com/images/I/2143EBQ210...     3.0   \n",
              "1  https://m.media-amazon.com/images/I/419WBAVDAR...     3.0   \n",
              "2  https://m.media-amazon.com/images/I/71b+q3ydkI...     2.7   \n",
              "3  https://m.media-amazon.com/images/I/710UO8gdT+...     3.3   \n",
              "4  https://m.media-amazon.com/images/I/61LYNCVrrK...     3.1   \n",
              "\n",
              "                                           reviewUrl  totalReviews   price  \\\n",
              "0  https://www.amazon.com/product-reviews/B0000SX2UC            14    0.00   \n",
              "1  https://www.amazon.com/product-reviews/B0009N5L7K             7   49.95   \n",
              "2  https://www.amazon.com/product-reviews/B000SKTZ0S            22   99.99   \n",
              "3  https://www.amazon.com/product-reviews/B001AO4OUC            21    0.00   \n",
              "4  https://www.amazon.com/product-reviews/B001DCJAJG            12  149.99   \n",
              "\n",
              "   originalPrice  \n",
              "0            0.0  \n",
              "1            0.0  \n",
              "2            0.0  \n",
              "3            0.0  \n",
              "4            0.0  "
            ],
            "text/html": [
              "\n",
              "  <div id=\"df-8b255e90-9d95-4cb4-b5d6-e6631051a339\" class=\"colab-df-container\">\n",
              "    <div>\n",
              "<style scoped>\n",
              "    .dataframe tbody tr th:only-of-type {\n",
              "        vertical-align: middle;\n",
              "    }\n",
              "\n",
              "    .dataframe tbody tr th {\n",
              "        vertical-align: top;\n",
              "    }\n",
              "\n",
              "    .dataframe thead th {\n",
              "        text-align: right;\n",
              "    }\n",
              "</style>\n",
              "<table border=\"1\" class=\"dataframe\">\n",
              "  <thead>\n",
              "    <tr style=\"text-align: right;\">\n",
              "      <th></th>\n",
              "      <th>product_id</th>\n",
              "      <th>product_brand</th>\n",
              "      <th>product_model_name</th>\n",
              "      <th>url</th>\n",
              "      <th>image</th>\n",
              "      <th>rating</th>\n",
              "      <th>reviewUrl</th>\n",
              "      <th>totalReviews</th>\n",
              "      <th>price</th>\n",
              "      <th>originalPrice</th>\n",
              "    </tr>\n",
              "  </thead>\n",
              "  <tbody>\n",
              "    <tr>\n",
              "      <th>0</th>\n",
              "      <td>B0000SX2UC</td>\n",
              "      <td>NaN</td>\n",
              "      <td>Dual-Band / Tri-Mode Sprint PCS Phone w/ Voice...</td>\n",
              "      <td>https://www.amazon.com/Dual-Band-Tri-Mode-Acti...</td>\n",
              "      <td>https://m.media-amazon.com/images/I/2143EBQ210...</td>\n",
              "      <td>3.0</td>\n",
              "      <td>https://www.amazon.com/product-reviews/B0000SX2UC</td>\n",
              "      <td>14</td>\n",
              "      <td>0.00</td>\n",
              "      <td>0.0</td>\n",
              "    </tr>\n",
              "    <tr>\n",
              "      <th>1</th>\n",
              "      <td>B0009N5L7K</td>\n",
              "      <td>Motorola</td>\n",
              "      <td>Motorola I265 phone</td>\n",
              "      <td>https://www.amazon.com/Motorola-i265-I265-phon...</td>\n",
              "      <td>https://m.media-amazon.com/images/I/419WBAVDAR...</td>\n",
              "      <td>3.0</td>\n",
              "      <td>https://www.amazon.com/product-reviews/B0009N5L7K</td>\n",
              "      <td>7</td>\n",
              "      <td>49.95</td>\n",
              "      <td>0.0</td>\n",
              "    </tr>\n",
              "    <tr>\n",
              "      <th>2</th>\n",
              "      <td>B000SKTZ0S</td>\n",
              "      <td>Motorola</td>\n",
              "      <td>MOTOROLA C168i AT&amp;T CINGULAR PREPAID GOPHONE C...</td>\n",
              "      <td>https://www.amazon.com/MOTOROLA-C168i-CINGULAR...</td>\n",
              "      <td>https://m.media-amazon.com/images/I/71b+q3ydkI...</td>\n",
              "      <td>2.7</td>\n",
              "      <td>https://www.amazon.com/product-reviews/B000SKTZ0S</td>\n",
              "      <td>22</td>\n",
              "      <td>99.99</td>\n",
              "      <td>0.0</td>\n",
              "    </tr>\n",
              "    <tr>\n",
              "      <th>3</th>\n",
              "      <td>B001AO4OUC</td>\n",
              "      <td>Motorola</td>\n",
              "      <td>Motorola i335 Cell Phone Boost Mobile</td>\n",
              "      <td>https://www.amazon.com/Motorola-i335-Phone-Boo...</td>\n",
              "      <td>https://m.media-amazon.com/images/I/710UO8gdT+...</td>\n",
              "      <td>3.3</td>\n",
              "      <td>https://www.amazon.com/product-reviews/B001AO4OUC</td>\n",
              "      <td>21</td>\n",
              "      <td>0.00</td>\n",
              "      <td>0.0</td>\n",
              "    </tr>\n",
              "    <tr>\n",
              "      <th>4</th>\n",
              "      <td>B001DCJAJG</td>\n",
              "      <td>Motorola</td>\n",
              "      <td>Motorola V365 no contract cellular phone AT&amp;T</td>\n",
              "      <td>https://www.amazon.com/Motorola-V365-contract-...</td>\n",
              "      <td>https://m.media-amazon.com/images/I/61LYNCVrrK...</td>\n",
              "      <td>3.1</td>\n",
              "      <td>https://www.amazon.com/product-reviews/B001DCJAJG</td>\n",
              "      <td>12</td>\n",
              "      <td>149.99</td>\n",
              "      <td>0.0</td>\n",
              "    </tr>\n",
              "  </tbody>\n",
              "</table>\n",
              "</div>\n",
              "    <div class=\"colab-df-buttons\">\n",
              "\n",
              "  <div class=\"colab-df-container\">\n",
              "    <button class=\"colab-df-convert\" onclick=\"convertToInteractive('df-8b255e90-9d95-4cb4-b5d6-e6631051a339')\"\n",
              "            title=\"Convert this dataframe to an interactive table.\"\n",
              "            style=\"display:none;\">\n",
              "\n",
              "  <svg xmlns=\"http://www.w3.org/2000/svg\" height=\"24px\" viewBox=\"0 -960 960 960\">\n",
              "    <path d=\"M120-120v-720h720v720H120Zm60-500h600v-160H180v160Zm220 220h160v-160H400v160Zm0 220h160v-160H400v160ZM180-400h160v-160H180v160Zm440 0h160v-160H620v160ZM180-180h160v-160H180v160Zm440 0h160v-160H620v160Z\"/>\n",
              "  </svg>\n",
              "    </button>\n",
              "\n",
              "  <style>\n",
              "    .colab-df-container {\n",
              "      display:flex;\n",
              "      gap: 12px;\n",
              "    }\n",
              "\n",
              "    .colab-df-convert {\n",
              "      background-color: #E8F0FE;\n",
              "      border: none;\n",
              "      border-radius: 50%;\n",
              "      cursor: pointer;\n",
              "      display: none;\n",
              "      fill: #1967D2;\n",
              "      height: 32px;\n",
              "      padding: 0 0 0 0;\n",
              "      width: 32px;\n",
              "    }\n",
              "\n",
              "    .colab-df-convert:hover {\n",
              "      background-color: #E2EBFA;\n",
              "      box-shadow: 0px 1px 2px rgba(60, 64, 67, 0.3), 0px 1px 3px 1px rgba(60, 64, 67, 0.15);\n",
              "      fill: #174EA6;\n",
              "    }\n",
              "\n",
              "    .colab-df-buttons div {\n",
              "      margin-bottom: 4px;\n",
              "    }\n",
              "\n",
              "    [theme=dark] .colab-df-convert {\n",
              "      background-color: #3B4455;\n",
              "      fill: #D2E3FC;\n",
              "    }\n",
              "\n",
              "    [theme=dark] .colab-df-convert:hover {\n",
              "      background-color: #434B5C;\n",
              "      box-shadow: 0px 1px 3px 1px rgba(0, 0, 0, 0.15);\n",
              "      filter: drop-shadow(0px 1px 2px rgba(0, 0, 0, 0.3));\n",
              "      fill: #FFFFFF;\n",
              "    }\n",
              "  </style>\n",
              "\n",
              "    <script>\n",
              "      const buttonEl =\n",
              "        document.querySelector('#df-8b255e90-9d95-4cb4-b5d6-e6631051a339 button.colab-df-convert');\n",
              "      buttonEl.style.display =\n",
              "        google.colab.kernel.accessAllowed ? 'block' : 'none';\n",
              "\n",
              "      async function convertToInteractive(key) {\n",
              "        const element = document.querySelector('#df-8b255e90-9d95-4cb4-b5d6-e6631051a339');\n",
              "        const dataTable =\n",
              "          await google.colab.kernel.invokeFunction('convertToInteractive',\n",
              "                                                    [key], {});\n",
              "        if (!dataTable) return;\n",
              "\n",
              "        const docLinkHtml = 'Like what you see? Visit the ' +\n",
              "          '<a target=\"_blank\" href=https://colab.research.google.com/notebooks/data_table.ipynb>data table notebook</a>'\n",
              "          + ' to learn more about interactive tables.';\n",
              "        element.innerHTML = '';\n",
              "        dataTable['output_type'] = 'display_data';\n",
              "        await google.colab.output.renderOutput(dataTable, element);\n",
              "        const docLink = document.createElement('div');\n",
              "        docLink.innerHTML = docLinkHtml;\n",
              "        element.appendChild(docLink);\n",
              "      }\n",
              "    </script>\n",
              "  </div>\n",
              "\n",
              "\n",
              "<div id=\"df-96a673f2-47fc-4017-bba0-0fab9f5dba2d\">\n",
              "  <button class=\"colab-df-quickchart\" onclick=\"quickchart('df-96a673f2-47fc-4017-bba0-0fab9f5dba2d')\"\n",
              "            title=\"Suggest charts\"\n",
              "            style=\"display:none;\">\n",
              "\n",
              "<svg xmlns=\"http://www.w3.org/2000/svg\" height=\"24px\"viewBox=\"0 0 24 24\"\n",
              "     width=\"24px\">\n",
              "    <g>\n",
              "        <path d=\"M19 3H5c-1.1 0-2 .9-2 2v14c0 1.1.9 2 2 2h14c1.1 0 2-.9 2-2V5c0-1.1-.9-2-2-2zM9 17H7v-7h2v7zm4 0h-2V7h2v10zm4 0h-2v-4h2v4z\"/>\n",
              "    </g>\n",
              "</svg>\n",
              "  </button>\n",
              "\n",
              "<style>\n",
              "  .colab-df-quickchart {\n",
              "      --bg-color: #E8F0FE;\n",
              "      --fill-color: #1967D2;\n",
              "      --hover-bg-color: #E2EBFA;\n",
              "      --hover-fill-color: #174EA6;\n",
              "      --disabled-fill-color: #AAA;\n",
              "      --disabled-bg-color: #DDD;\n",
              "  }\n",
              "\n",
              "  [theme=dark] .colab-df-quickchart {\n",
              "      --bg-color: #3B4455;\n",
              "      --fill-color: #D2E3FC;\n",
              "      --hover-bg-color: #434B5C;\n",
              "      --hover-fill-color: #FFFFFF;\n",
              "      --disabled-bg-color: #3B4455;\n",
              "      --disabled-fill-color: #666;\n",
              "  }\n",
              "\n",
              "  .colab-df-quickchart {\n",
              "    background-color: var(--bg-color);\n",
              "    border: none;\n",
              "    border-radius: 50%;\n",
              "    cursor: pointer;\n",
              "    display: none;\n",
              "    fill: var(--fill-color);\n",
              "    height: 32px;\n",
              "    padding: 0;\n",
              "    width: 32px;\n",
              "  }\n",
              "\n",
              "  .colab-df-quickchart:hover {\n",
              "    background-color: var(--hover-bg-color);\n",
              "    box-shadow: 0 1px 2px rgba(60, 64, 67, 0.3), 0 1px 3px 1px rgba(60, 64, 67, 0.15);\n",
              "    fill: var(--button-hover-fill-color);\n",
              "  }\n",
              "\n",
              "  .colab-df-quickchart-complete:disabled,\n",
              "  .colab-df-quickchart-complete:disabled:hover {\n",
              "    background-color: var(--disabled-bg-color);\n",
              "    fill: var(--disabled-fill-color);\n",
              "    box-shadow: none;\n",
              "  }\n",
              "\n",
              "  .colab-df-spinner {\n",
              "    border: 2px solid var(--fill-color);\n",
              "    border-color: transparent;\n",
              "    border-bottom-color: var(--fill-color);\n",
              "    animation:\n",
              "      spin 1s steps(1) infinite;\n",
              "  }\n",
              "\n",
              "  @keyframes spin {\n",
              "    0% {\n",
              "      border-color: transparent;\n",
              "      border-bottom-color: var(--fill-color);\n",
              "      border-left-color: var(--fill-color);\n",
              "    }\n",
              "    20% {\n",
              "      border-color: transparent;\n",
              "      border-left-color: var(--fill-color);\n",
              "      border-top-color: var(--fill-color);\n",
              "    }\n",
              "    30% {\n",
              "      border-color: transparent;\n",
              "      border-left-color: var(--fill-color);\n",
              "      border-top-color: var(--fill-color);\n",
              "      border-right-color: var(--fill-color);\n",
              "    }\n",
              "    40% {\n",
              "      border-color: transparent;\n",
              "      border-right-color: var(--fill-color);\n",
              "      border-top-color: var(--fill-color);\n",
              "    }\n",
              "    60% {\n",
              "      border-color: transparent;\n",
              "      border-right-color: var(--fill-color);\n",
              "    }\n",
              "    80% {\n",
              "      border-color: transparent;\n",
              "      border-right-color: var(--fill-color);\n",
              "      border-bottom-color: var(--fill-color);\n",
              "    }\n",
              "    90% {\n",
              "      border-color: transparent;\n",
              "      border-bottom-color: var(--fill-color);\n",
              "    }\n",
              "  }\n",
              "</style>\n",
              "\n",
              "  <script>\n",
              "    async function quickchart(key) {\n",
              "      const quickchartButtonEl =\n",
              "        document.querySelector('#' + key + ' button');\n",
              "      quickchartButtonEl.disabled = true;  // To prevent multiple clicks.\n",
              "      quickchartButtonEl.classList.add('colab-df-spinner');\n",
              "      try {\n",
              "        const charts = await google.colab.kernel.invokeFunction(\n",
              "            'suggestCharts', [key], {});\n",
              "      } catch (error) {\n",
              "        console.error('Error during call to suggestCharts:', error);\n",
              "      }\n",
              "      quickchartButtonEl.classList.remove('colab-df-spinner');\n",
              "      quickchartButtonEl.classList.add('colab-df-quickchart-complete');\n",
              "    }\n",
              "    (() => {\n",
              "      let quickchartButtonEl =\n",
              "        document.querySelector('#df-96a673f2-47fc-4017-bba0-0fab9f5dba2d button');\n",
              "      quickchartButtonEl.style.display =\n",
              "        google.colab.kernel.accessAllowed ? 'block' : 'none';\n",
              "    })();\n",
              "  </script>\n",
              "</div>\n",
              "    </div>\n",
              "  </div>\n"
            ],
            "application/vnd.google.colaboratory.intrinsic+json": {
              "type": "dataframe",
              "variable_name": "df",
              "summary": "{\n  \"name\": \"df\",\n  \"rows\": 720,\n  \"fields\": [\n    {\n      \"column\": \"product_id\",\n      \"properties\": {\n        \"dtype\": \"string\",\n        \"num_unique_values\": 720,\n        \"samples\": [\n          \"B078KGP5K5\",\n          \"B075SPVK8D\",\n          \"B00F3JPKCG\"\n        ],\n        \"semantic_type\": \"\",\n        \"description\": \"\"\n      }\n    },\n    {\n      \"column\": \"product_brand\",\n      \"properties\": {\n        \"dtype\": \"category\",\n        \"num_unique_values\": 10,\n        \"samples\": [\n          \"OnePlus\",\n          \"Nokia\",\n          \"Apple\"\n        ],\n        \"semantic_type\": \"\",\n        \"description\": \"\"\n      }\n    },\n    {\n      \"column\": \"product_model_name\",\n      \"properties\": {\n        \"dtype\": \"string\",\n        \"num_unique_values\": 718,\n        \"samples\": [\n          \"Samsung Galaxy Note 5 SM-N920T 32GB Black Smartphone for T-Mobile\",\n          \"Sony Xperia L2, Unlocked, 32GB - Black (U.S. Warranty)\",\n          \"Samsung A157 Unlocked GSM Cell Phone with Internet Browser, 3G Capabilities, SMS & MMS and Speakerphone - Black\"\n        ],\n        \"semantic_type\": \"\",\n        \"description\": \"\"\n      }\n    },\n    {\n      \"column\": \"url\",\n      \"properties\": {\n        \"dtype\": \"string\",\n        \"num_unique_values\": 720,\n        \"samples\": [\n          \"https://www.amazon.com/Google-Unlocked-Octa-Core-12-2MP-Camera/dp/B078KGP5K5\",\n          \"https://www.amazon.com/Samsung-SM-N950U-Galaxy-Verizon-Smartphone/dp/B075SPVK8D\",\n          \"https://www.amazon.com/Nokia-Lumia-925-Black-16GB/dp/B00F3JPKCG\"\n        ],\n        \"semantic_type\": \"\",\n        \"description\": \"\"\n      }\n    },\n    {\n      \"column\": \"image\",\n      \"properties\": {\n        \"dtype\": \"string\",\n        \"num_unique_values\": 679,\n        \"samples\": [\n          \"https://m.media-amazon.com/images/I/51SYn1t0EKL._AC_UY218_ML3_.jpg\",\n          \"https://m.media-amazon.com/images/I/41djXmzL3oL._AC_UY218_ML3_.jpg\",\n          \"https://m.media-amazon.com/images/I/71PZg166cmL._AC_UY218_ML3_.jpg\"\n        ],\n        \"semantic_type\": \"\",\n        \"description\": \"\"\n      }\n    },\n    {\n      \"column\": \"rating\",\n      \"properties\": {\n        \"dtype\": \"number\",\n        \"std\": 0.7160138022072767,\n        \"min\": 1.0,\n        \"max\": 5.0,\n        \"num_unique_values\": 33,\n        \"samples\": [\n          1.5,\n          3.9,\n          4.3\n        ],\n        \"semantic_type\": \"\",\n        \"description\": \"\"\n      }\n    },\n    {\n      \"column\": \"reviewUrl\",\n      \"properties\": {\n        \"dtype\": \"string\",\n        \"num_unique_values\": 720,\n        \"samples\": [\n          \"https://www.amazon.com/product-reviews/B078KGP5K5\",\n          \"https://www.amazon.com/product-reviews/B075SPVK8D\",\n          \"https://www.amazon.com/product-reviews/B00F3JPKCG\"\n        ],\n        \"semantic_type\": \"\",\n        \"description\": \"\"\n      }\n    },\n    {\n      \"column\": \"totalReviews\",\n      \"properties\": {\n        \"dtype\": \"number\",\n        \"std\": 167,\n        \"min\": 1,\n        \"max\": 983,\n        \"num_unique_values\": 247,\n        \"samples\": [\n          49,\n          29,\n          304\n        ],\n        \"semantic_type\": \"\",\n        \"description\": \"\"\n      }\n    },\n    {\n      \"column\": \"price\",\n      \"properties\": {\n        \"dtype\": \"number\",\n        \"std\": 200.00844067750816,\n        \"min\": 0.0,\n        \"max\": 999.99,\n        \"num_unique_values\": 453,\n        \"samples\": [\n          398.0,\n          259.98,\n          350.0\n        ],\n        \"semantic_type\": \"\",\n        \"description\": \"\"\n      }\n    },\n    {\n      \"column\": \"originalPrice\",\n      \"properties\": {\n        \"dtype\": \"number\",\n        \"std\": 172.40536958811822,\n        \"min\": 0.0,\n        \"max\": 999.99,\n        \"num_unique_values\": 90,\n        \"samples\": [\n          155.0,\n          59.0,\n          799.99\n        ],\n        \"semantic_type\": \"\",\n        \"description\": \"\"\n      }\n    }\n  ]\n}"
            }
          },
          "metadata": {},
          "execution_count": 8
        }
      ],
      "source": [
        "df.head()"
      ]
    },
    {
      "cell_type": "markdown",
      "metadata": {
        "id": "Kn2IUhE9rkTF"
      },
      "source": [
        "### Check Missing Values"
      ]
    },
    {
      "cell_type": "code",
      "execution_count": 9,
      "metadata": {
        "colab": {
          "base_uri": "https://localhost:8080/"
        },
        "id": "IWMa_fqfrkTG",
        "outputId": "be2b331e-a9b4-47b4-eac1-38aa72253406"
      },
      "outputs": [
        {
          "output_type": "execute_result",
          "data": {
            "text/plain": [
              "product_id            0\n",
              "product_brand         4\n",
              "product_model_name    0\n",
              "url                   0\n",
              "image                 0\n",
              "rating                0\n",
              "reviewUrl             0\n",
              "totalReviews          0\n",
              "price                 0\n",
              "originalPrice         0\n",
              "dtype: int64"
            ]
          },
          "metadata": {},
          "execution_count": 9
        }
      ],
      "source": [
        "# Check missing values\n",
        "df.isnull().sum()"
      ]
    },
    {
      "cell_type": "code",
      "execution_count": 10,
      "metadata": {
        "id": "MOr3zOTKrkTG"
      },
      "outputs": [],
      "source": [
        "# Change Missing values to 'Unknown'\n",
        "df['product_brand'] = df['product_brand'].fillna('Unknown')"
      ]
    },
    {
      "cell_type": "markdown",
      "metadata": {
        "id": "UA2d82y3rkTG"
      },
      "source": [
        "### Print which brand has the most number of products"
      ]
    },
    {
      "cell_type": "code",
      "execution_count": 11,
      "metadata": {
        "colab": {
          "base_uri": "https://localhost:8080/"
        },
        "id": "EmU1MTXLrkTH",
        "outputId": "5bf3d5ec-d4f0-4587-94b6-5d6efd1cc949"
      },
      "outputs": [
        {
          "output_type": "execute_result",
          "data": {
            "text/plain": [
              "product_brand\n",
              "Samsung     346\n",
              "Motorola    105\n",
              "Apple        63\n",
              "Xiaomi       46\n",
              "Nokia        44\n",
              "Google       38\n",
              "HUAWEI       32\n",
              "Sony         27\n",
              "OnePlus      10\n",
              "ASUS          5\n",
              "Unknown       4\n",
              "Name: count, dtype: int64"
            ]
          },
          "metadata": {},
          "execution_count": 11
        }
      ],
      "source": [
        "\n",
        "df['product_brand'].value_counts()"
      ]
    },
    {
      "cell_type": "markdown",
      "metadata": {
        "id": "Lx5vJV8UrkTH"
      },
      "source": [
        "### Print the number of products in each brand"
      ]
    },
    {
      "cell_type": "code",
      "execution_count": 12,
      "metadata": {
        "colab": {
          "base_uri": "https://localhost:8080/",
          "height": 600
        },
        "id": "qz-FzHdqrkTH",
        "outputId": "85d98512-5c0d-4791-8ff6-e051ecb1ae31"
      },
      "outputs": [
        {
          "output_type": "execute_result",
          "data": {
            "text/plain": [
              "<Axes: xlabel='product_brand'>"
            ]
          },
          "metadata": {},
          "execution_count": 12
        },
        {
          "output_type": "display_data",
          "data": {
            "text/plain": [
              "<Figure size 2000x1000 with 1 Axes>"
            ],
            "image/png": "[encoded data removed]"
          },
          "metadata": {}
        }
      ],
      "source": [
        "\n",
        "df['product_brand'].value_counts().plot(kind='bar', figsize=(20, 10))"
      ]
    },
    {
      "cell_type": "code",
      "execution_count": 13,
      "metadata": {
        "id": "0-JEUd8erkTH"
      },
      "outputs": [],
      "source": [
        "# load reviews dataset\n",
        "reviews = pd.read_csv('/content/Feedback_Analysis/Raw Dataset/20191226-reviews.csv')"
      ]
    },
    {
      "cell_type": "code",
      "execution_count": 14,
      "metadata": {
        "colab": {
          "base_uri": "https://localhost:8080/"
        },
        "id": "sA0EhAdzrkTI",
        "outputId": "c3306320-b91c-480b-c68b-a461a9807030"
      },
      "outputs": [
        {
          "output_type": "execute_result",
          "data": {
            "text/plain": [
              "Index(['asin', 'name', 'rating', 'date', 'verified', 'title', 'body',\n",
              "       'helpfulVotes'],\n",
              "      dtype='object')"
            ]
          },
          "metadata": {},
          "execution_count": 14
        }
      ],
      "source": [
        "reviews.columns"
      ]
    },
    {
      "cell_type": "code",
      "execution_count": 15,
      "metadata": {
        "colab": {
          "base_uri": "https://localhost:8080/"
        },
        "id": "oGViL-bcrkTI",
        "outputId": "457ed952-1286-49e2-dafe-4cda73c02dbc"
      },
      "outputs": [
        {
          "output_type": "stream",
          "name": "stderr",
          "text": [
            "<ipython-input-15-c8c285797b0a>:16: DtypeWarning: Columns (0,1,2,3,4,6,7,9,14,17) have mixed types. Specify dtype option on import or set low_memory=False.\n",
            "  df = pd.read_csv('/content/Feedback_Analysis/Raw Dataset/' + file)\n"
          ]
        }
      ],
      "source": [
        "# Save the merged dataset as a CSV file\n",
        "import pandas as pd\n",
        "import os\n",
        "\n",
        "def merge_csv():\n",
        "    # List of CSV files in the folder\n",
        "    file_list = os.listdir('/content/Feedback_Analysis/Raw Dataset')\n",
        "\n",
        "    # Create a list to store dataframes\n",
        "    dataframes = []\n",
        "\n",
        "    # Loop through the list of files\n",
        "    for file in file_list:\n",
        "\n",
        "        # Read the csv file\n",
        "        df = pd.read_csv('/content/Feedback_Analysis/Raw Dataset/' + file)\n",
        "\n",
        "        # Add the dataframe to the list\n",
        "        dataframes.append(df)\n",
        "\n",
        "    # Merge all dataframes in the list\n",
        "    merged_df = pd.concat(dataframes)\n",
        "\n",
        "    # Save the merged dataframe to a csv file\n",
        "    merged_df.to_csv('/content/Feedback_Analysis/Raw Dataset/merged_dataset.csv', index=False)\n",
        "\n",
        "if __name__ == '__main__':\n",
        "    merge_csv()"
      ]
    },
    {
      "cell_type": "code",
      "execution_count": 16,
      "metadata": {
        "id": "4HS0Y58BrkTI"
      },
      "outputs": [],
      "source": [
        "# Columns in the merged dataset\n",
        "#merged_df.columns"
      ]
    },
    {
      "cell_type": "code",
      "execution_count": 17,
      "metadata": {
        "colab": {
          "base_uri": "https://localhost:8080/"
        },
        "id": "A0grgqr-rkTI",
        "outputId": "416f92a9-c876-4de8-c3c1-f2a35e493438"
      },
      "outputs": [
        {
          "output_type": "stream",
          "name": "stderr",
          "text": [
            "<ipython-input-17-5547e5b5b36e>:4: DtypeWarning: Columns (0,3,4,8,9,10,11,15,16,17) have mixed types. Specify dtype option on import or set low_memory=False.\n",
            "  merged_df = pd.read_csv('/content/Feedback_Analysis/Raw Dataset/merged_dataset.csv')\n"
          ]
        }
      ],
      "source": [
        "import pandas as pd\n",
        "\n",
        "# read the merged dataset\n",
        "merged_df = pd.read_csv('/content/Feedback_Analysis/Raw Dataset/merged_dataset.csv')\n",
        "\n",
        "# reorder the columns and drop the 'asin' column\n",
        "merged_df = merged_df[['product_id', 'product_brand', 'product_model_name',\n",
        "                       'name', 'rating', 'verified', 'title', 'body', 'helpfulVotes']]\n",
        "\n",
        "# save the updated dataset to a new file\n",
        "merged_df.to_csv('/content/Feedback_Analysis/Dataset/updated_merged_dataset.csv', index=False)\n"
      ]
    },
    {
      "cell_type": "markdown",
      "metadata": {
        "id": "OQFYJAhJrkTJ"
      },
      "source": [
        "## Read the updated merged dataset"
      ]
    },
    {
      "cell_type": "code",
      "execution_count": 18,
      "metadata": {
        "colab": {
          "base_uri": "https://localhost:8080/"
        },
        "id": "jzx3PQwqrkTJ",
        "outputId": "20d98dee-8206-4bb0-ecf0-59a4c8590340"
      },
      "outputs": [
        {
          "output_type": "stream",
          "name": "stderr",
          "text": [
            "<ipython-input-18-2def3a772718>:2: DtypeWarning: Columns (0,1,2,5) have mixed types. Specify dtype option on import or set low_memory=False.\n",
            "  merged_df = pd.read_csv('/content/Feedback_Analysis/Dataset/updated_merged_dataset.csv')\n"
          ]
        }
      ],
      "source": [
        "# read the updated merged dataset\n",
        "merged_df = pd.read_csv('/content/Feedback_Analysis/Dataset/updated_merged_dataset.csv')"
      ]
    },
    {
      "cell_type": "code",
      "execution_count": 19,
      "metadata": {
        "colab": {
          "base_uri": "https://localhost:8080/"
        },
        "id": "4AiRQRSmrkTJ",
        "outputId": "c7b40844-9cf9-47e1-e803-0767814a240e"
      },
      "outputs": [
        {
          "output_type": "execute_result",
          "data": {
            "text/plain": [
              "Index(['product_id', 'product_brand', 'product_model_name', 'name', 'rating',\n",
              "       'verified', 'title', 'body', 'helpfulVotes'],\n",
              "      dtype='object')"
            ]
          },
          "metadata": {},
          "execution_count": 19
        }
      ],
      "source": [
        "# Columns name\n",
        "merged_df.columns"
      ]
    },
    {
      "cell_type": "code",
      "execution_count": 20,
      "metadata": {
        "colab": {
          "base_uri": "https://localhost:8080/"
        },
        "id": "YgYsa8btrkTK",
        "outputId": "c1bf51c7-7e99-47d8-98d8-ae6de2f2ecf2"
      },
      "outputs": [
        {
          "output_type": "execute_result",
          "data": {
            "text/plain": [
              "array([nan, 'Motorola', 'Nokia', 'Samsung', 'HUAWEI', 'Sony', 'Apple',\n",
              "       'Google', 'ASUS', 'OnePlus', 'Xiaomi'], dtype=object)"
            ]
          },
          "metadata": {},
          "execution_count": 20
        }
      ],
      "source": [
        "# Print All Brands\n",
        "merged_df['product_brand'].unique()"
      ]
    },
    {
      "cell_type": "code",
      "execution_count": 21,
      "metadata": {
        "colab": {
          "base_uri": "https://localhost:8080/"
        },
        "id": "8THjdLIHrkTK",
        "outputId": "c13c12af-9587-4179-a1b3-ac534b778291"
      },
      "outputs": [
        {
          "output_type": "stream",
          "name": "stderr",
          "text": [
            "[nltk_data] Downloading package stopwords to /root/nltk_data...\n",
            "[nltk_data]   Unzipping corpora/stopwords.zip.\n"
          ]
        },
        {
          "output_type": "stream",
          "name": "stdout",
          "text": [
            "[('phone', 215694), ('great', 47664), ('phone.', 43914), ('battery', 41499), ('like', 40065), ('good', 39762), ('screen', 35679), ('one', 34431), ('get', 31530), ('would', 29475), ('use', 28824), ('new', 25944), ('love', 25053), ('it.', 24912), ('works', 24030), ('camera', 23610), ('really', 22515), ('even', 21693), ('samsung', 20739), (\"i'm\", 20691)]\n"
          ]
        }
      ],
      "source": [
        "from collections import Counter\n",
        "import nltk\n",
        "\n",
        "# download stopwords if not already downloaded\n",
        "nltk.download('stopwords')\n",
        "\n",
        "# get all the words from the 'body' column\n",
        "words = []\n",
        "for text in merged_df['body']:\n",
        "    if isinstance(text, str):\n",
        "        words += text.lower().split()\n",
        "\n",
        "# remove stopwords\n",
        "stop_words = set(nltk.corpus.stopwords.words('english'))\n",
        "words = [word for word in words if word not in stop_words]\n",
        "\n",
        "# count the frequency of each word\n",
        "word_counts = Counter(words)\n",
        "\n",
        "# get the top 10 most common words\n",
        "top_words = word_counts.most_common(20)\n",
        "\n",
        "print(top_words)\n"
      ]
    },
    {
      "cell_type": "markdown",
      "metadata": {
        "id": "-YcsHh8HrkTL"
      },
      "source": [
        "## Analysis of the reviews"
      ]
    },
    {
      "cell_type": "markdown",
      "metadata": {
        "id": "5RUGuk4KrkTL"
      },
      "source": [
        "### Using TextBlob"
      ]
    },
    {
      "cell_type": "code",
      "execution_count": 22,
      "metadata": {
        "colab": {
          "base_uri": "https://localhost:8080/",
          "height": 677
        },
        "id": "mKMQpLs_rkTL",
        "outputId": "62b98feb-2734-42bb-97a9-b70b62d03451"
      },
      "outputs": [
        {
          "output_type": "execute_result",
          "data": {
            "text/plain": [
              "       word   count\n",
              "0     phone  215694\n",
              "1     great   47664\n",
              "2    phone.   43914\n",
              "3   battery   41499\n",
              "4      like   40065\n",
              "5      good   39762\n",
              "6    screen   35679\n",
              "7       one   34431\n",
              "8       get   31530\n",
              "9     would   29475\n",
              "10      use   28824\n",
              "11      new   25944\n",
              "12     love   25053\n",
              "13      it.   24912\n",
              "14    works   24030\n",
              "15   camera   23610\n",
              "16   really   22515\n",
              "17     even   21693\n",
              "18  samsung   20739\n",
              "19      i'm   20691"
            ],
            "text/html": [
              "\n",
              "  <div id=\"df-52111706-2242-42ee-a91f-8edfbd53a2cc\" class=\"colab-df-container\">\n",
              "    <div>\n",
              "<style scoped>\n",
              "    .dataframe tbody tr th:only-of-type {\n",
              "        vertical-align: middle;\n",
              "    }\n",
              "\n",
              "    .dataframe tbody tr th {\n",
              "        vertical-align: top;\n",
              "    }\n",
              "\n",
              "    .dataframe thead th {\n",
              "        text-align: right;\n",
              "    }\n",
              "</style>\n",
              "<table border=\"1\" class=\"dataframe\">\n",
              "  <thead>\n",
              "    <tr style=\"text-align: right;\">\n",
              "      <th></th>\n",
              "      <th>word</th>\n",
              "      <th>count</th>\n",
              "    </tr>\n",
              "  </thead>\n",
              "  <tbody>\n",
              "    <tr>\n",
              "      <th>0</th>\n",
              "      <td>phone</td>\n",
              "      <td>215694</td>\n",
              "    </tr>\n",
              "    <tr>\n",
              "      <th>1</th>\n",
              "      <td>great</td>\n",
              "      <td>47664</td>\n",
              "    </tr>\n",
              "    <tr>\n",
              "      <th>2</th>\n",
              "      <td>phone.</td>\n",
              "      <td>43914</td>\n",
              "    </tr>\n",
              "    <tr>\n",
              "      <th>3</th>\n",
              "      <td>battery</td>\n",
              "      <td>41499</td>\n",
              "    </tr>\n",
              "    <tr>\n",
              "      <th>4</th>\n",
              "      <td>like</td>\n",
              "      <td>40065</td>\n",
              "    </tr>\n",
              "    <tr>\n",
              "      <th>5</th>\n",
              "      <td>good</td>\n",
              "      <td>39762</td>\n",
              "    </tr>\n",
              "    <tr>\n",
              "      <th>6</th>\n",
              "      <td>screen</td>\n",
              "      <td>35679</td>\n",
              "    </tr>\n",
              "    <tr>\n",
              "      <th>7</th>\n",
              "      <td>one</td>\n",
              "      <td>34431</td>\n",
              "    </tr>\n",
              "    <tr>\n",
              "      <th>8</th>\n",
              "      <td>get</td>\n",
              "      <td>31530</td>\n",
              "    </tr>\n",
              "    <tr>\n",
              "      <th>9</th>\n",
              "      <td>would</td>\n",
              "      <td>29475</td>\n",
              "    </tr>\n",
              "    <tr>\n",
              "      <th>10</th>\n",
              "      <td>use</td>\n",
              "      <td>28824</td>\n",
              "    </tr>\n",
              "    <tr>\n",
              "      <th>11</th>\n",
              "      <td>new</td>\n",
              "      <td>25944</td>\n",
              "    </tr>\n",
              "    <tr>\n",
              "      <th>12</th>\n",
              "      <td>love</td>\n",
              "      <td>25053</td>\n",
              "    </tr>\n",
              "    <tr>\n",
              "      <th>13</th>\n",
              "      <td>it.</td>\n",
              "      <td>24912</td>\n",
              "    </tr>\n",
              "    <tr>\n",
              "      <th>14</th>\n",
              "      <td>works</td>\n",
              "      <td>24030</td>\n",
              "    </tr>\n",
              "    <tr>\n",
              "      <th>15</th>\n",
              "      <td>camera</td>\n",
              "      <td>23610</td>\n",
              "    </tr>\n",
              "    <tr>\n",
              "      <th>16</th>\n",
              "      <td>really</td>\n",
              "      <td>22515</td>\n",
              "    </tr>\n",
              "    <tr>\n",
              "      <th>17</th>\n",
              "      <td>even</td>\n",
              "      <td>21693</td>\n",
              "    </tr>\n",
              "    <tr>\n",
              "      <th>18</th>\n",
              "      <td>samsung</td>\n",
              "      <td>20739</td>\n",
              "    </tr>\n",
              "    <tr>\n",
              "      <th>19</th>\n",
              "      <td>i'm</td>\n",
              "      <td>20691</td>\n",
              "    </tr>\n",
              "  </tbody>\n",
              "</table>\n",
              "</div>\n",
              "    <div class=\"colab-df-buttons\">\n",
              "\n",
              "  <div class=\"colab-df-container\">\n",
              "    <button class=\"colab-df-convert\" onclick=\"convertToInteractive('df-52111706-2242-42ee-a91f-8edfbd53a2cc')\"\n",
              "            title=\"Convert this dataframe to an interactive table.\"\n",
              "            style=\"display:none;\">\n",
              "\n",
              "  <svg xmlns=\"http://www.w3.org/2000/svg\" height=\"24px\" viewBox=\"0 -960 960 960\">\n",
              "    <path d=\"M120-120v-720h720v720H120Zm60-500h600v-160H180v160Zm220 220h160v-160H400v160Zm0 220h160v-160H400v160ZM180-400h160v-160H180v160Zm440 0h160v-160H620v160ZM180-180h160v-160H180v160Zm440 0h160v-160H620v160Z\"/>\n",
              "  </svg>\n",
              "    </button>\n",
              "\n",
              "  <style>\n",
              "    .colab-df-container {\n",
              "      display:flex;\n",
              "      gap: 12px;\n",
              "    }\n",
              "\n",
              "    .colab-df-convert {\n",
              "      background-color: #E8F0FE;\n",
              "      border: none;\n",
              "      border-radius: 50%;\n",
              "      cursor: pointer;\n",
              "      display: none;\n",
              "      fill: #1967D2;\n",
              "      height: 32px;\n",
              "      padding: 0 0 0 0;\n",
              "      width: 32px;\n",
              "    }\n",
              "\n",
              "    .colab-df-convert:hover {\n",
              "      background-color: #E2EBFA;\n",
              "      box-shadow: 0px 1px 2px rgba(60, 64, 67, 0.3), 0px 1px 3px 1px rgba(60, 64, 67, 0.15);\n",
              "      fill: #174EA6;\n",
              "    }\n",
              "\n",
              "    .colab-df-buttons div {\n",
              "      margin-bottom: 4px;\n",
              "    }\n",
              "\n",
              "    [theme=dark] .colab-df-convert {\n",
              "      background-color: #3B4455;\n",
              "      fill: #D2E3FC;\n",
              "    }\n",
              "\n",
              "    [theme=dark] .colab-df-convert:hover {\n",
              "      background-color: #434B5C;\n",
              "      box-shadow: 0px 1px 3px 1px rgba(0, 0, 0, 0.15);\n",
              "      filter: drop-shadow(0px 1px 2px rgba(0, 0, 0, 0.3));\n",
              "      fill: #FFFFFF;\n",
              "    }\n",
              "  </style>\n",
              "\n",
              "    <script>\n",
              "      const buttonEl =\n",
              "        document.querySelector('#df-52111706-2242-42ee-a91f-8edfbd53a2cc button.colab-df-convert');\n",
              "      buttonEl.style.display =\n",
              "        google.colab.kernel.accessAllowed ? 'block' : 'none';\n",
              "\n",
              "      async function convertToInteractive(key) {\n",
              "        const element = document.querySelector('#df-52111706-2242-42ee-a91f-8edfbd53a2cc');\n",
              "        const dataTable =\n",
              "          await google.colab.kernel.invokeFunction('convertToInteractive',\n",
              "                                                    [key], {});\n",
              "        if (!dataTable) return;\n",
              "\n",
              "        const docLinkHtml = 'Like what you see? Visit the ' +\n",
              "          '<a target=\"_blank\" href=https://colab.research.google.com/notebooks/data_table.ipynb>data table notebook</a>'\n",
              "          + ' to learn more about interactive tables.';\n",
              "        element.innerHTML = '';\n",
              "        dataTable['output_type'] = 'display_data';\n",
              "        await google.colab.output.renderOutput(dataTable, element);\n",
              "        const docLink = document.createElement('div');\n",
              "        docLink.innerHTML = docLinkHtml;\n",
              "        element.appendChild(docLink);\n",
              "      }\n",
              "    </script>\n",
              "  </div>\n",
              "\n",
              "\n",
              "<div id=\"df-73882329-f9b6-4eb9-b590-fd4cd56a0f48\">\n",
              "  <button class=\"colab-df-quickchart\" onclick=\"quickchart('df-73882329-f9b6-4eb9-b590-fd4cd56a0f48')\"\n",
              "            title=\"Suggest charts\"\n",
              "            style=\"display:none;\">\n",
              "\n",
              "<svg xmlns=\"http://www.w3.org/2000/svg\" height=\"24px\"viewBox=\"0 0 24 24\"\n",
              "     width=\"24px\">\n",
              "    <g>\n",
              "        <path d=\"M19 3H5c-1.1 0-2 .9-2 2v14c0 1.1.9 2 2 2h14c1.1 0 2-.9 2-2V5c0-1.1-.9-2-2-2zM9 17H7v-7h2v7zm4 0h-2V7h2v10zm4 0h-2v-4h2v4z\"/>\n",
              "    </g>\n",
              "</svg>\n",
              "  </button>\n",
              "\n",
              "<style>\n",
              "  .colab-df-quickchart {\n",
              "      --bg-color: #E8F0FE;\n",
              "      --fill-color: #1967D2;\n",
              "      --hover-bg-color: #E2EBFA;\n",
              "      --hover-fill-color: #174EA6;\n",
              "      --disabled-fill-color: #AAA;\n",
              "      --disabled-bg-color: #DDD;\n",
              "  }\n",
              "\n",
              "  [theme=dark] .colab-df-quickchart {\n",
              "      --bg-color: #3B4455;\n",
              "      --fill-color: #D2E3FC;\n",
              "      --hover-bg-color: #434B5C;\n",
              "      --hover-fill-color: #FFFFFF;\n",
              "      --disabled-bg-color: #3B4455;\n",
              "      --disabled-fill-color: #666;\n",
              "  }\n",
              "\n",
              "  .colab-df-quickchart {\n",
              "    background-color: var(--bg-color);\n",
              "    border: none;\n",
              "    border-radius: 50%;\n",
              "    cursor: pointer;\n",
              "    display: none;\n",
              "    fill: var(--fill-color);\n",
              "    height: 32px;\n",
              "    padding: 0;\n",
              "    width: 32px;\n",
              "  }\n",
              "\n",
              "  .colab-df-quickchart:hover {\n",
              "    background-color: var(--hover-bg-color);\n",
              "    box-shadow: 0 1px 2px rgba(60, 64, 67, 0.3), 0 1px 3px 1px rgba(60, 64, 67, 0.15);\n",
              "    fill: var(--button-hover-fill-color);\n",
              "  }\n",
              "\n",
              "  .colab-df-quickchart-complete:disabled,\n",
              "  .colab-df-quickchart-complete:disabled:hover {\n",
              "    background-color: var(--disabled-bg-color);\n",
              "    fill: var(--disabled-fill-color);\n",
              "    box-shadow: none;\n",
              "  }\n",
              "\n",
              "  .colab-df-spinner {\n",
              "    border: 2px solid var(--fill-color);\n",
              "    border-color: transparent;\n",
              "    border-bottom-color: var(--fill-color);\n",
              "    animation:\n",
              "      spin 1s steps(1) infinite;\n",
              "  }\n",
              "\n",
              "  @keyframes spin {\n",
              "    0% {\n",
              "      border-color: transparent;\n",
              "      border-bottom-color: var(--fill-color);\n",
              "      border-left-color: var(--fill-color);\n",
              "    }\n",
              "    20% {\n",
              "      border-color: transparent;\n",
              "      border-left-color: var(--fill-color);\n",
              "      border-top-color: var(--fill-color);\n",
              "    }\n",
              "    30% {\n",
              "      border-color: transparent;\n",
              "      border-left-color: var(--fill-color);\n",
              "      border-top-color: var(--fill-color);\n",
              "      border-right-color: var(--fill-color);\n",
              "    }\n",
              "    40% {\n",
              "      border-color: transparent;\n",
              "      border-right-color: var(--fill-color);\n",
              "      border-top-color: var(--fill-color);\n",
              "    }\n",
              "    60% {\n",
              "      border-color: transparent;\n",
              "      border-right-color: var(--fill-color);\n",
              "    }\n",
              "    80% {\n",
              "      border-color: transparent;\n",
              "      border-right-color: var(--fill-color);\n",
              "      border-bottom-color: var(--fill-color);\n",
              "    }\n",
              "    90% {\n",
              "      border-color: transparent;\n",
              "      border-bottom-color: var(--fill-color);\n",
              "    }\n",
              "  }\n",
              "</style>\n",
              "\n",
              "  <script>\n",
              "    async function quickchart(key) {\n",
              "      const quickchartButtonEl =\n",
              "        document.querySelector('#' + key + ' button');\n",
              "      quickchartButtonEl.disabled = true;  // To prevent multiple clicks.\n",
              "      quickchartButtonEl.classList.add('colab-df-spinner');\n",
              "      try {\n",
              "        const charts = await google.colab.kernel.invokeFunction(\n",
              "            'suggestCharts', [key], {});\n",
              "      } catch (error) {\n",
              "        console.error('Error during call to suggestCharts:', error);\n",
              "      }\n",
              "      quickchartButtonEl.classList.remove('colab-df-spinner');\n",
              "      quickchartButtonEl.classList.add('colab-df-quickchart-complete');\n",
              "    }\n",
              "    (() => {\n",
              "      let quickchartButtonEl =\n",
              "        document.querySelector('#df-73882329-f9b6-4eb9-b590-fd4cd56a0f48 button');\n",
              "      quickchartButtonEl.style.display =\n",
              "        google.colab.kernel.accessAllowed ? 'block' : 'none';\n",
              "    })();\n",
              "  </script>\n",
              "</div>\n",
              "    </div>\n",
              "  </div>\n"
            ],
            "application/vnd.google.colaboratory.intrinsic+json": {
              "type": "dataframe",
              "variable_name": "merged_df",
              "summary": "{\n  \"name\": \"merged_df\",\n  \"rows\": 20,\n  \"fields\": [\n    {\n      \"column\": \"word\",\n      \"properties\": {\n        \"dtype\": \"string\",\n        \"num_unique_values\": 20,\n        \"samples\": [\n          \"phone\",\n          \"even\",\n          \"camera\"\n        ],\n        \"semantic_type\": \"\",\n        \"description\": \"\"\n      }\n    },\n    {\n      \"column\": \"count\",\n      \"properties\": {\n        \"dtype\": \"number\",\n        \"std\": 42214,\n        \"min\": 20691,\n        \"max\": 215694,\n        \"num_unique_values\": 20,\n        \"samples\": [\n          215694,\n          21693,\n          23610\n        ],\n        \"semantic_type\": \"\",\n        \"description\": \"\"\n      }\n    }\n  ]\n}"
            }
          },
          "metadata": {},
          "execution_count": 22
        }
      ],
      "source": [
        "# Most Frequent Words\n",
        "merged_df = pd.DataFrame(top_words, columns=['word', 'count'])\n",
        "# Print Most Frequent Words\n",
        "merged_df = merged_df.sort_values(by='count', ascending=False)\n",
        "merged_df.head(20)\n"
      ]
    },
    {
      "cell_type": "markdown",
      "source": [
        "### Percentage of negative reviews for each brand"
      ],
      "metadata": {
        "id": "El_2zZ6ixzyL"
      }
    },
    {
      "cell_type": "code",
      "execution_count": 23,
      "metadata": {
        "colab": {
          "base_uri": "https://localhost:8080/"
        },
        "id": "Q2gmhxmxrkTM",
        "outputId": "f9f375f3-598f-4319-bf57-6102d9d4797e"
      },
      "outputs": [
        {
          "output_type": "stream",
          "name": "stderr",
          "text": [
            "<ipython-input-23-c2c32e3edcaf>:5: DtypeWarning: Columns (0,1,2,5) have mixed types. Specify dtype option on import or set low_memory=False.\n",
            "  df = pd.read_csv(\"/content/Feedback_Analysis/Dataset/updated_merged_dataset.csv\")\n"
          ]
        },
        {
          "output_type": "stream",
          "name": "stdout",
          "text": [
            "Percentage of negative reviews for each brand:\n",
            "product_brand\n",
            "ASUS        13.636364\n",
            "Apple       18.415179\n",
            "Google      18.484501\n",
            "HUAWEI       9.940358\n",
            "Motorola    14.274084\n",
            "Nokia       14.909091\n",
            "OnePlus      8.187135\n",
            "Samsung     17.247969\n",
            "Sony        12.597015\n",
            "Xiaomi       6.807964\n",
            "Name: count, dtype: float64\n"
          ]
        }
      ],
      "source": [
        "from textblob import TextBlob\n",
        "import pandas as pd\n",
        "\n",
        "# Load the dataset\n",
        "df = pd.read_csv(\"/content/Feedback_Analysis/Dataset/updated_merged_dataset.csv\")\n",
        "df.dropna(inplace=True)\n",
        "\n",
        "\n",
        "# Define a function to calculate the sentiment polarity of a text\n",
        "\n",
        "def get_sentiment(text):\n",
        "    blob = TextBlob(text)\n",
        "    sentiment = blob.sentiment.polarity\n",
        "    return sentiment\n",
        "\n",
        "\n",
        "# Calculate the sentiment polarity of each review\n",
        "df['sentiment'] = df['body'].apply(get_sentiment)\n",
        "\n",
        "# Calculate the percentage of negative reviews for each brand\n",
        "neg_reviews = df[df['sentiment'] < 0]\n",
        "brand_counts = neg_reviews['product_brand'].value_counts()\n",
        "total_counts = df['product_brand'].value_counts()\n",
        "neg_percents = (brand_counts / total_counts) * 100\n",
        "\n",
        "# Print the results\n",
        "print(\"Percentage of negative reviews for each brand:\")\n",
        "print(neg_percents)\n"
      ]
    },
    {
      "cell_type": "markdown",
      "source": [
        "### Number of comments for each brand"
      ],
      "metadata": {
        "id": "n5fw8a_kxuIE"
      }
    },
    {
      "cell_type": "code",
      "execution_count": 24,
      "metadata": {
        "colab": {
          "base_uri": "https://localhost:8080/"
        },
        "id": "6ZCw7WMHrkTN",
        "outputId": "2e29489a-933f-46dc-d685-54595a50ca99"
      },
      "outputs": [
        {
          "output_type": "stream",
          "name": "stdout",
          "text": [
            "Number of comments for each brand:\n",
            "product_brand\n",
            "Samsung     12558\n",
            "Motorola     3685\n",
            "Nokia        2750\n",
            "Apple        1792\n",
            "Google       1742\n",
            "Sony         1675\n",
            "Xiaomi       1557\n",
            "HUAWEI       1006\n",
            "OnePlus       171\n",
            "ASUS          132\n",
            "Name: count, dtype: int64\n"
          ]
        }
      ],
      "source": [
        "# Count the number of comments for each brand\n",
        "brand_counts = df['product_brand'].value_counts()\n",
        "\n",
        "# Print the result\n",
        "print(\"Number of comments for each brand:\")\n",
        "print(brand_counts)\n"
      ]
    },
    {
      "cell_type": "markdown",
      "source": [
        "### Number of negative reviews for each brand"
      ],
      "metadata": {
        "id": "js7TlDqnxnd8"
      }
    },
    {
      "cell_type": "code",
      "execution_count": 25,
      "metadata": {
        "colab": {
          "base_uri": "https://localhost:8080/"
        },
        "id": "48AusJYFrkTN",
        "outputId": "2583bfa3-8b32-425b-ea9d-51138bcd70c0"
      },
      "outputs": [
        {
          "output_type": "stream",
          "name": "stdout",
          "text": [
            "Number of negative reviews for each brand:\n",
            "product_brand\n",
            "Samsung     2166\n",
            "Motorola     526\n",
            "Nokia        410\n",
            "Apple        330\n",
            "Google       322\n",
            "Sony         211\n",
            "Xiaomi       106\n",
            "HUAWEI       100\n",
            "ASUS          18\n",
            "OnePlus       14\n",
            "Name: count, dtype: int64\n"
          ]
        }
      ],
      "source": [
        "# Define a function to calculate the sentiment polarity of a text using TextBlob\n",
        "def get_sentiment(text):\n",
        "    blob = TextBlob(text)\n",
        "    sentiment = blob.sentiment.polarity\n",
        "    return sentiment\n",
        "\n",
        "\n",
        "# Calculate the sentiment polarity of each review\n",
        "df['sentiment'] = df['body'].apply(get_sentiment)\n",
        "\n",
        "# Filter the negative reviews by selecting only the rows where the sentiment polarity is less than 0\n",
        "neg_reviews = df[df['sentiment'] < 0]\n",
        "\n",
        "# Count the number of negative reviews for each brand\n",
        "neg_counts = neg_reviews['product_brand'].value_counts()\n",
        "\n",
        "# Print the result\n",
        "print(\"Number of negative reviews for each brand:\")\n",
        "print(neg_counts)\n"
      ]
    },
    {
      "cell_type": "markdown",
      "source": [
        "### The percentage of negative reviews for each brand on camera"
      ],
      "metadata": {
        "id": "YMuVswZjxcax"
      }
    },
    {
      "cell_type": "code",
      "execution_count": 26,
      "metadata": {
        "colab": {
          "base_uri": "https://localhost:8080/"
        },
        "id": "V5DJlZMKrkTO",
        "outputId": "f002b59d-0bb0-4139-ef16-56871cd94315"
      },
      "outputs": [
        {
          "output_type": "stream",
          "name": "stdout",
          "text": [
            "product_brand\n",
            "ASUS         4.651163\n",
            "Apple       17.171717\n",
            "Google       7.964602\n",
            "HUAWEI       1.872659\n",
            "Motorola     5.958132\n",
            "Nokia        5.692308\n",
            "OnePlus      0.000000\n",
            "Samsung      9.570662\n",
            "Sony         6.574394\n",
            "Xiaomi       1.366120\n",
            "Name: sentiment_polarity, dtype: float64\n"
          ]
        },
        {
          "output_type": "stream",
          "name": "stderr",
          "text": [
            "<ipython-input-26-62b753005a29>:18: SettingWithCopyWarning: \n",
            "A value is trying to be set on a copy of a slice from a DataFrame.\n",
            "Try using .loc[row_indexer,col_indexer] = value instead\n",
            "\n",
            "See the caveats in the documentation: https://pandas.pydata.org/pandas-docs/stable/user_guide/indexing.html#returning-a-view-versus-a-copy\n",
            "  camera_reviews['sentiment_polarity'] = camera_reviews['body'].apply(\n"
          ]
        }
      ],
      "source": [
        "from textblob import TextBlob\n",
        "import pandas as pd\n",
        "\n",
        "# load the dataset\n",
        "#df = pd.read_csv('your_dataset.csv')\n",
        "\n",
        "# filter reviews that mention 'camera'\n",
        "camera_reviews = df[df['body'].str.contains('camera')]\n",
        "\n",
        "# define function to calculate sentiment polarity\n",
        "\n",
        "\n",
        "def get_sentiment_polarity(text):\n",
        "    return TextBlob(text).sentiment.polarity\n",
        "\n",
        "\n",
        "# calculate sentiment polarity for each review\n",
        "camera_reviews['sentiment_polarity'] = camera_reviews['body'].apply(\n",
        "    lambda x: get_sentiment_polarity(x))\n",
        "\n",
        "# group by 'product_brand' and calculate percentage of negative reviews\n",
        "camera_sentiments = camera_reviews.groupby('product_brand')[\n",
        "    'sentiment_polarity'].apply(lambda x: (x < 0).sum() / len(x) * 100)\n",
        "\n",
        "# print the percentage of negative reviews for each brand\n",
        "print(camera_sentiments)\n"
      ]
    },
    {
      "cell_type": "markdown",
      "source": [
        "### The percentage of negative reviews for each brand on battery"
      ],
      "metadata": {
        "id": "C2VAOXU2xMQ8"
      }
    },
    {
      "cell_type": "code",
      "execution_count": 27,
      "metadata": {
        "colab": {
          "base_uri": "https://localhost:8080/"
        },
        "id": "e7g1FX1zrkTO",
        "outputId": "d78f82b5-96fb-484c-fc5c-1457570ed81f"
      },
      "outputs": [
        {
          "output_type": "stream",
          "name": "stderr",
          "text": [
            "<ipython-input-27-22446ca42b20>:12: SettingWithCopyWarning: \n",
            "A value is trying to be set on a copy of a slice from a DataFrame.\n",
            "Try using .loc[row_indexer,col_indexer] = value instead\n",
            "\n",
            "See the caveats in the documentation: https://pandas.pydata.org/pandas-docs/stable/user_guide/indexing.html#returning-a-view-versus-a-copy\n",
            "  screen_reviews['sentiment_polarity'] = screen_reviews['body'].apply(\n"
          ]
        },
        {
          "output_type": "stream",
          "name": "stdout",
          "text": [
            "Percentage for screen\n",
            "product_brand\n",
            "ASUS         2.777778\n",
            "Apple       26.415094\n",
            "Google      18.435754\n",
            "HUAWEI       4.854369\n",
            "Motorola    10.444178\n",
            "Nokia        8.393632\n",
            "OnePlus      5.714286\n",
            "Samsung     17.786012\n",
            "Sony         7.640068\n",
            "Xiaomi       5.135952\n",
            "Name: sentiment_polarity, dtype: float64\n",
            "Percentage for battery\n",
            "product_brand\n",
            "ASUS         8.571429\n",
            "Apple       18.823529\n",
            "Google      10.725552\n",
            "HUAWEI       2.739726\n",
            "Motorola     9.030418\n",
            "Nokia        9.811321\n",
            "OnePlus      0.000000\n",
            "Samsung     14.485459\n",
            "Sony         7.455013\n",
            "Xiaomi       3.715170\n",
            "Name: sentiment_polarity, dtype: float64\n"
          ]
        },
        {
          "output_type": "stream",
          "name": "stderr",
          "text": [
            "<ipython-input-27-22446ca42b20>:28: SettingWithCopyWarning: \n",
            "A value is trying to be set on a copy of a slice from a DataFrame.\n",
            "Try using .loc[row_indexer,col_indexer] = value instead\n",
            "\n",
            "See the caveats in the documentation: https://pandas.pydata.org/pandas-docs/stable/user_guide/indexing.html#returning-a-view-versus-a-copy\n",
            "  battery_reviews['sentiment_polarity'] = battery_reviews['body'].apply(\n"
          ]
        }
      ],
      "source": [
        "\n",
        "# filter reviews that mention 'screen'\n",
        "screen_reviews = df[df['body'].str.contains('screen')]\n",
        "\n",
        "# define function to calculate sentiment polarity\n",
        "\n",
        "\n",
        "def get_sentiment_polarity(text):\n",
        "    return TextBlob(text).sentiment.polarity\n",
        "\n",
        "\n",
        "# calculate sentiment polarity for each review\n",
        "screen_reviews['sentiment_polarity'] = screen_reviews['body'].apply(\n",
        "    lambda x: get_sentiment_polarity(x))\n",
        "\n",
        "# group by 'product_brand' and calculate percentage of negative reviews\n",
        "screen_sentiments = screen_reviews.groupby('product_brand')[\n",
        "    'sentiment_polarity'].apply(lambda x: (x < 0).sum() / len(x) * 100)\n",
        "\n",
        "# print the percentage of negative reviews for each brand\n",
        "print('Percentage for screen')\n",
        "print(screen_sentiments)\n",
        "\n",
        "\n",
        "# filter reviews that mention 'battery'\n",
        "battery_reviews = df[df['body'].str.contains('battery')]\n",
        "\n",
        "# calculate sentiment polarity for each review\n",
        "battery_reviews['sentiment_polarity'] = battery_reviews['body'].apply(\n",
        "    lambda x: get_sentiment_polarity(x))\n",
        "\n",
        "# group by 'product_brand' and calculate percentage of negative reviews\n",
        "battery_sentiments = battery_reviews.groupby('product_brand')[\n",
        "    'sentiment_polarity'].apply(lambda x: (x < 0).sum() / len(x) * 100)\n",
        "\n",
        "# print the percentage of negative reviews for each brand\n",
        "print('Percentage for battery')\n",
        "print(battery_sentiments)\n"
      ]
    },
    {
      "cell_type": "markdown",
      "source": [
        "### The number of Model each brand"
      ],
      "metadata": {
        "id": "wxPFTBzOxGN7"
      }
    },
    {
      "cell_type": "code",
      "execution_count": 28,
      "metadata": {
        "colab": {
          "base_uri": "https://localhost:8080/"
        },
        "id": "hIxuNKERrkTP",
        "outputId": "4ea6e785-9bdc-4601-a73f-8bdc36a0fac4"
      },
      "outputs": [
        {
          "output_type": "stream",
          "name": "stdout",
          "text": [
            "product_brand\n",
            "ASUS          5\n",
            "Apple        60\n",
            "Google       34\n",
            "HUAWEI       27\n",
            "Motorola     86\n",
            "Nokia        41\n",
            "OnePlus      10\n",
            "Samsung     293\n",
            "Sony         25\n",
            "Xiaomi       43\n",
            "Name: product_model_name, dtype: int64\n"
          ]
        }
      ],
      "source": [
        "# Count and print the number of Model each brand has and show in a table\n",
        "brand_model = df.groupby('product_brand')['product_model_name'].nunique()\n",
        "print(brand_model)"
      ]
    },
    {
      "cell_type": "code",
      "execution_count": 29,
      "metadata": {
        "colab": {
          "base_uri": "https://localhost:8080/"
        },
        "id": "wVAn551UrkTP",
        "outputId": "9ff9d73f-86c8-4af9-e64e-aa50adb986b0"
      },
      "outputs": [
        {
          "output_type": "stream",
          "name": "stdout",
          "text": [
            "The Samsung model with the highest sentiment polarity is: Samsung Galaxy S7 Edge 32GB G935A GSM Unlocked - Pink Gold\n"
          ]
        },
        {
          "output_type": "stream",
          "name": "stderr",
          "text": [
            "<ipython-input-29-17d9e9c4481c>:9: SettingWithCopyWarning: \n",
            "A value is trying to be set on a copy of a slice from a DataFrame.\n",
            "Try using .loc[row_indexer,col_indexer] = value instead\n",
            "\n",
            "See the caveats in the documentation: https://pandas.pydata.org/pandas-docs/stable/user_guide/indexing.html#returning-a-view-versus-a-copy\n",
            "  samsung_reviews['sentiment_polarity'] = samsung_reviews['body'].apply(lambda x: get_sentiment_polarity(x))\n"
          ]
        }
      ],
      "source": [
        "# filter reviews that belong to Samsung brand\n",
        "samsung_reviews = df[df['product_brand'] == 'Samsung']\n",
        "\n",
        "# define function to calculate sentiment polarity\n",
        "def get_sentiment_polarity(text):\n",
        "    return TextBlob(text).sentiment.polarity\n",
        "\n",
        "# calculate sentiment polarity for each review\n",
        "samsung_reviews['sentiment_polarity'] = samsung_reviews['body'].apply(lambda x: get_sentiment_polarity(x))\n",
        "\n",
        "# calculate the average sentiment polarity for each Samsung model\n",
        "model_sentiments = samsung_reviews.groupby('product_model_name')['sentiment_polarity'].mean()\n",
        "\n",
        "# sort the models based on their average sentiment polarity in descending order\n",
        "sorted_models = model_sentiments.sort_values(ascending=False)\n",
        "\n",
        "# print the model with the highest average sentiment polarity\n",
        "print(\"The Samsung model with the highest sentiment polarity is:\", sorted_models.index[0])\n"
      ]
    },
    {
      "cell_type": "markdown",
      "source": [
        "### Price-related keyword"
      ],
      "metadata": {
        "id": "-FV82lU4w4Nr"
      }
    },
    {
      "cell_type": "code",
      "execution_count": 30,
      "metadata": {
        "id": "ud4tycCrrkTR",
        "colab": {
          "base_uri": "https://localhost:8080/"
        },
        "outputId": "98ba6bec-d7d9-44ae-ba26-bcd8a784dbd4"
      },
      "outputs": [
        {
          "output_type": "stream",
          "name": "stdout",
          "text": [
            "Total reviews that mention a price-related keyword: 5442\n"
          ]
        }
      ],
      "source": [
        "\n",
        "# create a list of price-related keywords to search for\n",
        "price_keywords = ['price', 'cost', 'value', 'expensive', 'affordable', 'budget', 'cheap', 'overpriced', 'inexpensive']\n",
        "\n",
        "# create a new column in the dataframe to indicate if the review mentions a price-related keyword\n",
        "df['mentions_price'] = df['body'].apply(lambda x: any(word in x.lower() for word in price_keywords))\n",
        "\n",
        "# create a new dataframe that only includes reviews that mention a price-related keyword\n",
        "price_df = df[df['mentions_price'] == True]\n",
        "\n",
        "# print the total number of reviews that mention a price-related keyword\n",
        "print(f'Total reviews that mention a price-related keyword: {len(price_df)}')\n"
      ]
    },
    {
      "cell_type": "code",
      "execution_count": 31,
      "metadata": {
        "id": "7oRWxqbirkTR",
        "colab": {
          "base_uri": "https://localhost:8080/"
        },
        "outputId": "e671d878-37da-4c2b-e8bd-a07a6623b142"
      },
      "outputs": [
        {
          "output_type": "stream",
          "name": "stdout",
          "text": [
            "{'': 38796, 'price': 3848, 'cost': 702, 'expensive': 596, 'affordable': 142, 'budget': 400, 'expense': 32}\n"
          ]
        }
      ],
      "source": [
        "import pandas as pd\n",
        "import re\n",
        "\n",
        "#Create an empty dictionary\n",
        "price_words = {}\n",
        "\n",
        "#Iterate over each row in the body column\n",
        "for body in df['body']:\n",
        "    #Find all numbers and the words price, cost, expense, affordable, budget, expensive\n",
        "    matches = re.findall(r'\\b\\d+(?:\\.\\d+)?\\b|\\b(price|cost|expense|affordable|budget|expensive)\\b', body, flags=re.IGNORECASE)\n",
        "\n",
        "    #Iterate over each match\n",
        "    for match in matches:\n",
        "        #If the match is a string, add it to the dictionary\n",
        "        if type(match) == str:\n",
        "            if match.lower() in price_words:\n",
        "                price_words[match.lower()] += 1\n",
        "            else:\n",
        "                price_words[match.lower()] = 1\n",
        "\n",
        "        #If the match is a number, add it to the dictionary\n",
        "        else:\n",
        "            if match.group(0).lower() in price_words:\n",
        "                price_words[match.group(0).lower()] += 1\n",
        "            else:\n",
        "                price_words[match.group(0).lower()] = 1\n",
        "\n",
        "#Print the dictionary\n",
        "print(price_words)\n"
      ]
    },
    {
      "cell_type": "markdown",
      "source": [
        "### Percentage of negative comments for each brand"
      ],
      "metadata": {
        "id": "IbbxrN-iwuAO"
      }
    },
    {
      "cell_type": "code",
      "execution_count": 32,
      "metadata": {
        "id": "Fz8YvBN4rkTS",
        "colab": {
          "base_uri": "https://localhost:8080/"
        },
        "outputId": "ef9abc66-bf06-43d5-9231-52cdb4ea22f3"
      },
      "outputs": [
        {
          "output_type": "stream",
          "name": "stdout",
          "text": [
            "{'ASUS': 0.0, 'Apple': 0.11, 'Google': 0.21, 'HUAWEI': 0.04, 'Motorola': 0.18, 'Nokia': 0.16, 'OnePlus': 0.01, 'Samsung': 0.58, 'Sony': 0.09, 'Xiaomi': 0.04}\n"
          ]
        }
      ],
      "source": [
        "# Define price-related words\n",
        "price_related_words = ['price', 'cost', 'expensive', 'affordable', 'budget', 'expense']\n",
        "\n",
        "# Count the frequency of each price-related word in the review body\n",
        "price_word_count = df['body'].str.count('|'.join(price_related_words), flags=re.IGNORECASE).sum()\n",
        "\n",
        "# Initialize a dictionary to store the count of negative comments for each brand\n",
        "negative_count = {'ASUS': 0, 'Apple': 0, 'Google': 0, 'HUAWEI': 0, 'Motorola': 0, 'Nokia': 0, 'OnePlus': 0, 'Samsung': 0, 'Sony': 0, 'Xiaomi': 0}\n",
        "\n",
        "# Loop through each review and increment the negative count for the corresponding brand if the sentiment polarity is negative\n",
        "for index, row in df.iterrows():\n",
        "    review = row['body']\n",
        "    brand = row['product_brand']\n",
        "    for word in price_related_words:\n",
        "        if word in review:\n",
        "            blob = TextBlob(review)\n",
        "            if blob.sentiment.polarity < 0:\n",
        "                negative_count[brand] += 1\n",
        "\n",
        "# Compute the percentage of negative comments for each brand\n",
        "total_reviews = df['product_brand'].value_counts().sum()\n",
        "negative_percentage = {}\n",
        "for brand, count in negative_count.items():\n",
        "    negative_percentage[brand] = round((count / total_reviews) * 100, 2)\n",
        "\n",
        "# Print the results\n",
        "print(negative_percentage)"
      ]
    }
  ],
  "metadata": {
    "kernelspec": {
      "display_name": "Python 3 (ipykernel)",
      "language": "python",
      "name": "python3"
    },
    "language_info": {
      "codemirror_mode": {
        "name": "ipython",
        "version": 3
      },
      "file_extension": ".py",
      "mimetype": "text/x-python",
      "name": "python",
      "nbconvert_exporter": "python",
      "pygments_lexer": "ipython3",
      "version": "3.10.4"
    },
    "vscode": {
      "interpreter": {
        "hash": "28328718739f0b0dcd54909b78dca6ccaf0c916f6b7d08f276d2b5deebde5e28"
      }
    },
    "colab": {
      "provenance": [],
      "include_colab_link": true
    }
  },
  "nbformat": 4,
  "nbformat_minor": 0
}