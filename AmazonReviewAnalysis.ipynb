{
 "cells": [
  {
   "cell_type": "markdown",
   "metadata": {},
   "source": [
    "## Product improvement statistical insight from Customer feedback using BERT."
   ]
  },
  {
   "cell_type": "markdown",
   "metadata": {},
   "source": [
    "### 1. Importing the libraries"
   ]
  },
  {
   "cell_type": "code",
   "execution_count": 3,
   "metadata": {},
   "outputs": [],
   "source": [
    "# Import libraries\n",
    "import pandas as pd\n",
    "import numpy as np\n",
    "import matplotlib.pyplot as plt\n",
    "import seaborn as sns\n",
    "import nltk\n",
    "import string\n",
    "import re\n",
    "import warnings\n",
    "warnings.filterwarnings(\"ignore\", category=DeprecationWarning)\n",
    "%matplotlib inline\n"
   ]
  },
  {
   "cell_type": "markdown",
   "metadata": {},
   "source": [
    "### Load Datasets"
   ]
  },
  {
   "cell_type": "code",
   "execution_count": 4,
   "metadata": {},
   "outputs": [],
   "source": [
    "df = pd.read_csv('Raw Dataset/20191226-items.csv')"
   ]
  },
  {
   "cell_type": "markdown",
   "metadata": {},
   "source": [
    "### Product Mapping"
   ]
  },
  {
   "cell_type": "code",
   "execution_count": 5,
   "metadata": {},
   "outputs": [],
   "source": [
    "# create a new dataframe with columns for product ID, brand, and model\n",
    "product_mapping = df[['asin', 'brand', 'title']].copy()\n",
    "\n",
    "# rename the columns to match the desired format\n",
    "product_mapping = product_mapping.rename(\n",
    "    columns={'asin': 'product_id', 'brand': 'product_brand', 'title': 'product_model_name'})\n",
    "\n",
    "# save the product mapping as a CSV file\n",
    "product_mapping.to_csv('Raw Dataset/product_mapping.csv', index=False)\n"
   ]
  },
  {
   "cell_type": "code",
   "execution_count": 6,
   "metadata": {},
   "outputs": [
    {
     "data": {
      "text/html": [
       "<div>\n",
       "<style scoped>\n",
       "    .dataframe tbody tr th:only-of-type {\n",
       "        vertical-align: middle;\n",
       "    }\n",
       "\n",
       "    .dataframe tbody tr th {\n",
       "        vertical-align: top;\n",
       "    }\n",
       "\n",
       "    .dataframe thead th {\n",
       "        text-align: right;\n",
       "    }\n",
       "</style>\n",
       "<table border=\"1\" class=\"dataframe\">\n",
       "  <thead>\n",
       "    <tr style=\"text-align: right;\">\n",
       "      <th></th>\n",
       "      <th>asin</th>\n",
       "      <th>brand</th>\n",
       "      <th>title</th>\n",
       "      <th>url</th>\n",
       "      <th>image</th>\n",
       "      <th>rating</th>\n",
       "      <th>reviewUrl</th>\n",
       "      <th>totalReviews</th>\n",
       "      <th>price</th>\n",
       "      <th>originalPrice</th>\n",
       "    </tr>\n",
       "  </thead>\n",
       "  <tbody>\n",
       "    <tr>\n",
       "      <th>0</th>\n",
       "      <td>B0000SX2UC</td>\n",
       "      <td>NaN</td>\n",
       "      <td>Dual-Band / Tri-Mode Sprint PCS Phone w/ Voice...</td>\n",
       "      <td>https://www.amazon.com/Dual-Band-Tri-Mode-Acti...</td>\n",
       "      <td>https://m.media-amazon.com/images/I/2143EBQ210...</td>\n",
       "      <td>3.0</td>\n",
       "      <td>https://www.amazon.com/product-reviews/B0000SX2UC</td>\n",
       "      <td>14</td>\n",
       "      <td>0.00</td>\n",
       "      <td>0.0</td>\n",
       "    </tr>\n",
       "    <tr>\n",
       "      <th>1</th>\n",
       "      <td>B0009N5L7K</td>\n",
       "      <td>Motorola</td>\n",
       "      <td>Motorola I265 phone</td>\n",
       "      <td>https://www.amazon.com/Motorola-i265-I265-phon...</td>\n",
       "      <td>https://m.media-amazon.com/images/I/419WBAVDAR...</td>\n",
       "      <td>3.0</td>\n",
       "      <td>https://www.amazon.com/product-reviews/B0009N5L7K</td>\n",
       "      <td>7</td>\n",
       "      <td>49.95</td>\n",
       "      <td>0.0</td>\n",
       "    </tr>\n",
       "    <tr>\n",
       "      <th>2</th>\n",
       "      <td>B000SKTZ0S</td>\n",
       "      <td>Motorola</td>\n",
       "      <td>MOTOROLA C168i AT&amp;T CINGULAR PREPAID GOPHONE C...</td>\n",
       "      <td>https://www.amazon.com/MOTOROLA-C168i-CINGULAR...</td>\n",
       "      <td>https://m.media-amazon.com/images/I/71b+q3ydkI...</td>\n",
       "      <td>2.7</td>\n",
       "      <td>https://www.amazon.com/product-reviews/B000SKTZ0S</td>\n",
       "      <td>22</td>\n",
       "      <td>99.99</td>\n",
       "      <td>0.0</td>\n",
       "    </tr>\n",
       "    <tr>\n",
       "      <th>3</th>\n",
       "      <td>B001AO4OUC</td>\n",
       "      <td>Motorola</td>\n",
       "      <td>Motorola i335 Cell Phone Boost Mobile</td>\n",
       "      <td>https://www.amazon.com/Motorola-i335-Phone-Boo...</td>\n",
       "      <td>https://m.media-amazon.com/images/I/710UO8gdT+...</td>\n",
       "      <td>3.3</td>\n",
       "      <td>https://www.amazon.com/product-reviews/B001AO4OUC</td>\n",
       "      <td>21</td>\n",
       "      <td>0.00</td>\n",
       "      <td>0.0</td>\n",
       "    </tr>\n",
       "    <tr>\n",
       "      <th>4</th>\n",
       "      <td>B001DCJAJG</td>\n",
       "      <td>Motorola</td>\n",
       "      <td>Motorola V365 no contract cellular phone AT&amp;T</td>\n",
       "      <td>https://www.amazon.com/Motorola-V365-contract-...</td>\n",
       "      <td>https://m.media-amazon.com/images/I/61LYNCVrrK...</td>\n",
       "      <td>3.1</td>\n",
       "      <td>https://www.amazon.com/product-reviews/B001DCJAJG</td>\n",
       "      <td>12</td>\n",
       "      <td>149.99</td>\n",
       "      <td>0.0</td>\n",
       "    </tr>\n",
       "  </tbody>\n",
       "</table>\n",
       "</div>"
      ],
      "text/plain": [
       "         asin     brand                                              title  \\\n",
       "0  B0000SX2UC       NaN  Dual-Band / Tri-Mode Sprint PCS Phone w/ Voice...   \n",
       "1  B0009N5L7K  Motorola                                Motorola I265 phone   \n",
       "2  B000SKTZ0S  Motorola  MOTOROLA C168i AT&T CINGULAR PREPAID GOPHONE C...   \n",
       "3  B001AO4OUC  Motorola              Motorola i335 Cell Phone Boost Mobile   \n",
       "4  B001DCJAJG  Motorola      Motorola V365 no contract cellular phone AT&T   \n",
       "\n",
       "                                                 url  \\\n",
       "0  https://www.amazon.com/Dual-Band-Tri-Mode-Acti...   \n",
       "1  https://www.amazon.com/Motorola-i265-I265-phon...   \n",
       "2  https://www.amazon.com/MOTOROLA-C168i-CINGULAR...   \n",
       "3  https://www.amazon.com/Motorola-i335-Phone-Boo...   \n",
       "4  https://www.amazon.com/Motorola-V365-contract-...   \n",
       "\n",
       "                                               image  rating  \\\n",
       "0  https://m.media-amazon.com/images/I/2143EBQ210...     3.0   \n",
       "1  https://m.media-amazon.com/images/I/419WBAVDAR...     3.0   \n",
       "2  https://m.media-amazon.com/images/I/71b+q3ydkI...     2.7   \n",
       "3  https://m.media-amazon.com/images/I/710UO8gdT+...     3.3   \n",
       "4  https://m.media-amazon.com/images/I/61LYNCVrrK...     3.1   \n",
       "\n",
       "                                           reviewUrl  totalReviews   price  \\\n",
       "0  https://www.amazon.com/product-reviews/B0000SX2UC            14    0.00   \n",
       "1  https://www.amazon.com/product-reviews/B0009N5L7K             7   49.95   \n",
       "2  https://www.amazon.com/product-reviews/B000SKTZ0S            22   99.99   \n",
       "3  https://www.amazon.com/product-reviews/B001AO4OUC            21    0.00   \n",
       "4  https://www.amazon.com/product-reviews/B001DCJAJG            12  149.99   \n",
       "\n",
       "   originalPrice  \n",
       "0            0.0  \n",
       "1            0.0  \n",
       "2            0.0  \n",
       "3            0.0  \n",
       "4            0.0  "
      ]
     },
     "execution_count": 6,
     "metadata": {},
     "output_type": "execute_result"
    }
   ],
   "source": [
    "df.head()"
   ]
  },
  {
   "cell_type": "code",
   "execution_count": 7,
   "metadata": {},
   "outputs": [
    {
     "data": {
      "text/plain": [
       "Index(['asin', 'brand', 'title', 'url', 'image', 'rating', 'reviewUrl',\n",
       "       'totalReviews', 'price', 'originalPrice'],\n",
       "      dtype='object')"
      ]
     },
     "execution_count": 7,
     "metadata": {},
     "output_type": "execute_result"
    }
   ],
   "source": [
    "# print all the columns\n",
    "df.columns"
   ]
  },
  {
   "cell_type": "markdown",
   "metadata": {},
   "source": [
    "### Rename the columns"
   ]
  },
  {
   "cell_type": "code",
   "execution_count": 8,
   "metadata": {},
   "outputs": [],
   "source": [
    "# rename the columns\n",
    "df = df.rename(columns={'asin': 'product_id',\n",
    "               'title': 'product_model_name', 'brand': 'product_brand'})\n",
    "\n"
   ]
  },
  {
   "cell_type": "code",
   "execution_count": 9,
   "metadata": {},
   "outputs": [
    {
     "data": {
      "text/html": [
       "<div>\n",
       "<style scoped>\n",
       "    .dataframe tbody tr th:only-of-type {\n",
       "        vertical-align: middle;\n",
       "    }\n",
       "\n",
       "    .dataframe tbody tr th {\n",
       "        vertical-align: top;\n",
       "    }\n",
       "\n",
       "    .dataframe thead th {\n",
       "        text-align: right;\n",
       "    }\n",
       "</style>\n",
       "<table border=\"1\" class=\"dataframe\">\n",
       "  <thead>\n",
       "    <tr style=\"text-align: right;\">\n",
       "      <th></th>\n",
       "      <th>product_id</th>\n",
       "      <th>product_brand</th>\n",
       "      <th>product_model_name</th>\n",
       "      <th>url</th>\n",
       "      <th>image</th>\n",
       "      <th>rating</th>\n",
       "      <th>reviewUrl</th>\n",
       "      <th>totalReviews</th>\n",
       "      <th>price</th>\n",
       "      <th>originalPrice</th>\n",
       "    </tr>\n",
       "  </thead>\n",
       "  <tbody>\n",
       "    <tr>\n",
       "      <th>0</th>\n",
       "      <td>B0000SX2UC</td>\n",
       "      <td>NaN</td>\n",
       "      <td>Dual-Band / Tri-Mode Sprint PCS Phone w/ Voice...</td>\n",
       "      <td>https://www.amazon.com/Dual-Band-Tri-Mode-Acti...</td>\n",
       "      <td>https://m.media-amazon.com/images/I/2143EBQ210...</td>\n",
       "      <td>3.0</td>\n",
       "      <td>https://www.amazon.com/product-reviews/B0000SX2UC</td>\n",
       "      <td>14</td>\n",
       "      <td>0.00</td>\n",
       "      <td>0.0</td>\n",
       "    </tr>\n",
       "    <tr>\n",
       "      <th>1</th>\n",
       "      <td>B0009N5L7K</td>\n",
       "      <td>Motorola</td>\n",
       "      <td>Motorola I265 phone</td>\n",
       "      <td>https://www.amazon.com/Motorola-i265-I265-phon...</td>\n",
       "      <td>https://m.media-amazon.com/images/I/419WBAVDAR...</td>\n",
       "      <td>3.0</td>\n",
       "      <td>https://www.amazon.com/product-reviews/B0009N5L7K</td>\n",
       "      <td>7</td>\n",
       "      <td>49.95</td>\n",
       "      <td>0.0</td>\n",
       "    </tr>\n",
       "    <tr>\n",
       "      <th>2</th>\n",
       "      <td>B000SKTZ0S</td>\n",
       "      <td>Motorola</td>\n",
       "      <td>MOTOROLA C168i AT&amp;T CINGULAR PREPAID GOPHONE C...</td>\n",
       "      <td>https://www.amazon.com/MOTOROLA-C168i-CINGULAR...</td>\n",
       "      <td>https://m.media-amazon.com/images/I/71b+q3ydkI...</td>\n",
       "      <td>2.7</td>\n",
       "      <td>https://www.amazon.com/product-reviews/B000SKTZ0S</td>\n",
       "      <td>22</td>\n",
       "      <td>99.99</td>\n",
       "      <td>0.0</td>\n",
       "    </tr>\n",
       "    <tr>\n",
       "      <th>3</th>\n",
       "      <td>B001AO4OUC</td>\n",
       "      <td>Motorola</td>\n",
       "      <td>Motorola i335 Cell Phone Boost Mobile</td>\n",
       "      <td>https://www.amazon.com/Motorola-i335-Phone-Boo...</td>\n",
       "      <td>https://m.media-amazon.com/images/I/710UO8gdT+...</td>\n",
       "      <td>3.3</td>\n",
       "      <td>https://www.amazon.com/product-reviews/B001AO4OUC</td>\n",
       "      <td>21</td>\n",
       "      <td>0.00</td>\n",
       "      <td>0.0</td>\n",
       "    </tr>\n",
       "    <tr>\n",
       "      <th>4</th>\n",
       "      <td>B001DCJAJG</td>\n",
       "      <td>Motorola</td>\n",
       "      <td>Motorola V365 no contract cellular phone AT&amp;T</td>\n",
       "      <td>https://www.amazon.com/Motorola-V365-contract-...</td>\n",
       "      <td>https://m.media-amazon.com/images/I/61LYNCVrrK...</td>\n",
       "      <td>3.1</td>\n",
       "      <td>https://www.amazon.com/product-reviews/B001DCJAJG</td>\n",
       "      <td>12</td>\n",
       "      <td>149.99</td>\n",
       "      <td>0.0</td>\n",
       "    </tr>\n",
       "  </tbody>\n",
       "</table>\n",
       "</div>"
      ],
      "text/plain": [
       "   product_id product_brand  \\\n",
       "0  B0000SX2UC           NaN   \n",
       "1  B0009N5L7K      Motorola   \n",
       "2  B000SKTZ0S      Motorola   \n",
       "3  B001AO4OUC      Motorola   \n",
       "4  B001DCJAJG      Motorola   \n",
       "\n",
       "                                  product_model_name  \\\n",
       "0  Dual-Band / Tri-Mode Sprint PCS Phone w/ Voice...   \n",
       "1                                Motorola I265 phone   \n",
       "2  MOTOROLA C168i AT&T CINGULAR PREPAID GOPHONE C...   \n",
       "3              Motorola i335 Cell Phone Boost Mobile   \n",
       "4      Motorola V365 no contract cellular phone AT&T   \n",
       "\n",
       "                                                 url  \\\n",
       "0  https://www.amazon.com/Dual-Band-Tri-Mode-Acti...   \n",
       "1  https://www.amazon.com/Motorola-i265-I265-phon...   \n",
       "2  https://www.amazon.com/MOTOROLA-C168i-CINGULAR...   \n",
       "3  https://www.amazon.com/Motorola-i335-Phone-Boo...   \n",
       "4  https://www.amazon.com/Motorola-V365-contract-...   \n",
       "\n",
       "                                               image  rating  \\\n",
       "0  https://m.media-amazon.com/images/I/2143EBQ210...     3.0   \n",
       "1  https://m.media-amazon.com/images/I/419WBAVDAR...     3.0   \n",
       "2  https://m.media-amazon.com/images/I/71b+q3ydkI...     2.7   \n",
       "3  https://m.media-amazon.com/images/I/710UO8gdT+...     3.3   \n",
       "4  https://m.media-amazon.com/images/I/61LYNCVrrK...     3.1   \n",
       "\n",
       "                                           reviewUrl  totalReviews   price  \\\n",
       "0  https://www.amazon.com/product-reviews/B0000SX2UC            14    0.00   \n",
       "1  https://www.amazon.com/product-reviews/B0009N5L7K             7   49.95   \n",
       "2  https://www.amazon.com/product-reviews/B000SKTZ0S            22   99.99   \n",
       "3  https://www.amazon.com/product-reviews/B001AO4OUC            21    0.00   \n",
       "4  https://www.amazon.com/product-reviews/B001DCJAJG            12  149.99   \n",
       "\n",
       "   originalPrice  \n",
       "0            0.0  \n",
       "1            0.0  \n",
       "2            0.0  \n",
       "3            0.0  \n",
       "4            0.0  "
      ]
     },
     "execution_count": 9,
     "metadata": {},
     "output_type": "execute_result"
    }
   ],
   "source": [
    "df.head()"
   ]
  },
  {
   "cell_type": "markdown",
   "metadata": {},
   "source": [
    "### Check Missing Values"
   ]
  },
  {
   "cell_type": "code",
   "execution_count": 10,
   "metadata": {},
   "outputs": [
    {
     "data": {
      "text/plain": [
       "product_id            0\n",
       "product_brand         4\n",
       "product_model_name    0\n",
       "url                   0\n",
       "image                 0\n",
       "rating                0\n",
       "reviewUrl             0\n",
       "totalReviews          0\n",
       "price                 0\n",
       "originalPrice         0\n",
       "dtype: int64"
      ]
     },
     "execution_count": 10,
     "metadata": {},
     "output_type": "execute_result"
    }
   ],
   "source": [
    "# Check missing values\n",
    "df.isnull().sum()"
   ]
  },
  {
   "cell_type": "code",
   "execution_count": 11,
   "metadata": {},
   "outputs": [],
   "source": [
    "# Change Missing values to 'Unknown'\n",
    "df['product_brand'] = df['product_brand'].fillna('Unknown')"
   ]
  },
  {
   "cell_type": "markdown",
   "metadata": {},
   "source": [
    "### Print which brand has the most number of products"
   ]
  },
  {
   "cell_type": "code",
   "execution_count": 12,
   "metadata": {},
   "outputs": [
    {
     "data": {
      "text/plain": [
       "Samsung     346\n",
       "Motorola    105\n",
       "Apple        63\n",
       "Xiaomi       46\n",
       "Nokia        44\n",
       "Google       38\n",
       "HUAWEI       32\n",
       "Sony         27\n",
       "OnePlus      10\n",
       "ASUS          5\n",
       "Unknown       4\n",
       "Name: product_brand, dtype: int64"
      ]
     },
     "execution_count": 12,
     "metadata": {},
     "output_type": "execute_result"
    }
   ],
   "source": [
    "\n",
    "df['product_brand'].value_counts()"
   ]
  },
  {
   "cell_type": "markdown",
   "metadata": {},
   "source": [
    "### Print the number of products in each brand"
   ]
  },
  {
   "cell_type": "code",
   "execution_count": 13,
   "metadata": {},
   "outputs": [
    {
     "data": {
      "text/plain": [
       "<Axes: >"
      ]
     },
     "execution_count": 13,
     "metadata": {},
     "output_type": "execute_result"
    },
    {
     "data": {
      "image/png": "[encoded data removed]",
      "text/plain": [
       "<Figure size 2000x1000 with 1 Axes>"
      ]
     },
     "metadata": {},
     "output_type": "display_data"
    }
   ],
   "source": [
    "\n",
    "df['product_brand'].value_counts().plot(kind='bar', figsize=(20, 10))"
   ]
  },
  {
   "cell_type": "code",
   "execution_count": 14,
   "metadata": {},
   "outputs": [],
   "source": [
    "# load reviews dataset\n",
    "reviews = pd.read_csv('Raw Dataset/20191226-reviews.csv')"
   ]
  },
  {
   "cell_type": "code",
   "execution_count": 15,
   "metadata": {},
   "outputs": [
    {
     "data": {
      "text/plain": [
       "Index(['asin', 'name', 'rating', 'date', 'verified', 'title', 'body',\n",
       "       'helpfulVotes'],\n",
       "      dtype='object')"
      ]
     },
     "execution_count": 15,
     "metadata": {},
     "output_type": "execute_result"
    }
   ],
   "source": [
    "reviews.columns"
   ]
  },
  {
   "cell_type": "code",
   "execution_count": 20,
   "metadata": {},
   "outputs": [],
   "source": [
    "# Save the merged dataset as a CSV file\n",
    "import pandas as pd\n",
    "import os\n",
    "\n",
    "def merge_csv():\n",
    "    # List of CSV files in the folder\n",
    "    file_list = os.listdir('Raw Dataset')\n",
    "\n",
    "    # Create a list to store dataframes\n",
    "    dataframes = []\n",
    "\n",
    "    # Loop through the list of files\n",
    "    for file in file_list:\n",
    "\n",
    "        # Read the csv file\n",
    "        df = pd.read_csv('Raw Dataset/' + file)\n",
    "\n",
    "        # Add the dataframe to the list\n",
    "        dataframes.append(df)\n",
    "\n",
    "    # Merge all dataframes in the list\n",
    "    merged_df = pd.concat(dataframes)\n",
    "\n",
    "    # Save the merged dataframe to a csv file\n",
    "    merged_df.to_csv('Raw Dataset/merged_dataset.csv', index=False)\n",
    "\n",
    "if __name__ == '__main__':\n",
    "    merge_csv()"
   ]
  },
  {
   "cell_type": "code",
   "execution_count": 28,
   "metadata": {},
   "outputs": [
    {
     "data": {
      "text/plain": [
       "Index(['product_id', 'product_brand', 'product_model_name', 'name', 'rating',\n",
       "       'verified', 'title', 'body', 'helpfulVotes'],\n",
       "      dtype='object')"
      ]
     },
     "execution_count": 28,
     "metadata": {},
     "output_type": "execute_result"
    }
   ],
   "source": [
    "# Columns in the merged dataset\n",
    "merged_df.columns"
   ]
  },
  {
   "cell_type": "code",
   "execution_count": 29,
   "metadata": {},
   "outputs": [
    {
     "name": "stderr",
     "output_type": "stream",
     "text": [
      "/tmp/ipykernel_11110/107859471.py:4: DtypeWarning: Columns (0,1,2,3,4,6,7,9,14,17) have mixed types. Specify dtype option on import or set low_memory=False.\n",
      "  merged_df = pd.read_csv('Raw Dataset/merged_dataset.csv')\n"
     ]
    }
   ],
   "source": [
    "import pandas as pd\n",
    "\n",
    "# read the merged dataset\n",
    "merged_df = pd.read_csv('Raw Dataset/merged_dataset.csv')\n",
    "\n",
    "# reorder the columns and drop the 'asin' column\n",
    "merged_df = merged_df[['product_id', 'product_brand', 'product_model_name',\n",
    "                       'name', 'rating', 'verified', 'title', 'body', 'helpfulVotes']]\n",
    "\n",
    "# save the updated dataset to a new file\n",
    "merged_df.to_csv('Dataset/updated_merged_dataset.csv', index=False)\n"
   ]
  },
  {
   "attachments": {},
   "cell_type": "markdown",
   "metadata": {},
   "source": [
    "## Read the updated merged dataset"
   ]
  },
  {
   "cell_type": "code",
   "execution_count": 30,
   "metadata": {},
   "outputs": [
    {
     "name": "stderr",
     "output_type": "stream",
     "text": [
      "/tmp/ipykernel_11110/3470234922.py:2: DtypeWarning: Columns (0,1,2,5) have mixed types. Specify dtype option on import or set low_memory=False.\n",
      "  merged_df = pd.read_csv('Dataset/updated_merged_dataset.csv')\n"
     ]
    }
   ],
   "source": [
    "# read the updated merged dataset\n",
    "merged_df = pd.read_csv('Dataset/updated_merged_dataset.csv')"
   ]
  },
  {
   "cell_type": "code",
   "execution_count": 31,
   "metadata": {},
   "outputs": [
    {
     "data": {
      "text/plain": [
       "Index(['product_id', 'product_brand', 'product_model_name', 'name', 'rating',\n",
       "       'verified', 'title', 'body', 'helpfulVotes'],\n",
       "      dtype='object')"
      ]
     },
     "execution_count": 31,
     "metadata": {},
     "output_type": "execute_result"
    }
   ],
   "source": [
    "# Columns name\n",
    "merged_df.columns"
   ]
  },
  {
   "cell_type": "code",
   "execution_count": 32,
   "metadata": {},
   "outputs": [
    {
     "data": {
      "text/plain": [
       "array([nan, 'Motorola', 'Nokia', 'Samsung', 'HUAWEI', 'Sony', 'Apple',\n",
       "       'Google', 'ASUS', 'OnePlus', 'Xiaomi'], dtype=object)"
      ]
     },
     "execution_count": 32,
     "metadata": {},
     "output_type": "execute_result"
    }
   ],
   "source": [
    "# Print All Brands\n",
    "merged_df['product_brand'].unique()"
   ]
  },
  {
   "cell_type": "code",
   "execution_count": 33,
   "metadata": {},
   "outputs": [
    {
     "name": "stderr",
     "output_type": "stream",
     "text": [
      "[nltk_data] Downloading package stopwords to\n",
      "[nltk_data]     /home/codespace/nltk_data...\n",
      "[nltk_data]   Unzipping corpora/stopwords.zip.\n"
     ]
    },
    {
     "name": "stdout",
     "output_type": "stream",
     "text": [
      "[('phone', 143796), ('great', 31776), ('phone.', 29276), ('battery', 27666), ('like', 26710), ('good', 26508), ('screen', 23786), ('one', 22954), ('get', 21020), ('would', 19650), ('use', 19216), ('new', 17296), ('love', 16702), ('it.', 16608), ('works', 16020), ('camera', 15740), ('really', 15010), ('even', 14462), ('samsung', 13826), (\"i'm\", 13794)]\n"
     ]
    }
   ],
   "source": [
    "from collections import Counter\n",
    "import nltk\n",
    "\n",
    "# download stopwords if not already downloaded\n",
    "nltk.download('stopwords')\n",
    "\n",
    "# get all the words from the 'body' column\n",
    "words = []\n",
    "for text in merged_df['body']:\n",
    "    if isinstance(text, str):\n",
    "        words += text.lower().split()\n",
    "\n",
    "# remove stopwords\n",
    "stop_words = set(nltk.corpus.stopwords.words('english'))\n",
    "words = [word for word in words if word not in stop_words]\n",
    "\n",
    "# count the frequency of each word\n",
    "word_counts = Counter(words)\n",
    "\n",
    "# get the top 10 most common words\n",
    "top_words = word_counts.most_common(20)\n",
    "\n",
    "print(top_words)\n"
   ]
  },
  {
   "cell_type": "markdown",
   "metadata": {},
   "source": [
    "## Analysis of the reviews"
   ]
  },
  {
   "attachments": {},
   "cell_type": "markdown",
   "metadata": {},
   "source": [
    "### Using TextBlob"
   ]
  },
  {
   "cell_type": "code",
   "execution_count": 34,
   "metadata": {},
   "outputs": [
    {
     "data": {
      "text/html": [
       "<div>\n",
       "<style scoped>\n",
       "    .dataframe tbody tr th:only-of-type {\n",
       "        vertical-align: middle;\n",
       "    }\n",
       "\n",
       "    .dataframe tbody tr th {\n",
       "        vertical-align: top;\n",
       "    }\n",
       "\n",
       "    .dataframe thead th {\n",
       "        text-align: right;\n",
       "    }\n",
       "</style>\n",
       "<table border=\"1\" class=\"dataframe\">\n",
       "  <thead>\n",
       "    <tr style=\"text-align: right;\">\n",
       "      <th></th>\n",
       "      <th>word</th>\n",
       "      <th>count</th>\n",
       "    </tr>\n",
       "  </thead>\n",
       "  <tbody>\n",
       "    <tr>\n",
       "      <th>0</th>\n",
       "      <td>phone</td>\n",
       "      <td>143796</td>\n",
       "    </tr>\n",
       "    <tr>\n",
       "      <th>1</th>\n",
       "      <td>great</td>\n",
       "      <td>31776</td>\n",
       "    </tr>\n",
       "    <tr>\n",
       "      <th>2</th>\n",
       "      <td>phone.</td>\n",
       "      <td>29276</td>\n",
       "    </tr>\n",
       "    <tr>\n",
       "      <th>3</th>\n",
       "      <td>battery</td>\n",
       "      <td>27666</td>\n",
       "    </tr>\n",
       "    <tr>\n",
       "      <th>4</th>\n",
       "      <td>like</td>\n",
       "      <td>26710</td>\n",
       "    </tr>\n",
       "    <tr>\n",
       "      <th>5</th>\n",
       "      <td>good</td>\n",
       "      <td>26508</td>\n",
       "    </tr>\n",
       "    <tr>\n",
       "      <th>6</th>\n",
       "      <td>screen</td>\n",
       "      <td>23786</td>\n",
       "    </tr>\n",
       "    <tr>\n",
       "      <th>7</th>\n",
       "      <td>one</td>\n",
       "      <td>22954</td>\n",
       "    </tr>\n",
       "    <tr>\n",
       "      <th>8</th>\n",
       "      <td>get</td>\n",
       "      <td>21020</td>\n",
       "    </tr>\n",
       "    <tr>\n",
       "      <th>9</th>\n",
       "      <td>would</td>\n",
       "      <td>19650</td>\n",
       "    </tr>\n",
       "    <tr>\n",
       "      <th>10</th>\n",
       "      <td>use</td>\n",
       "      <td>19216</td>\n",
       "    </tr>\n",
       "    <tr>\n",
       "      <th>11</th>\n",
       "      <td>new</td>\n",
       "      <td>17296</td>\n",
       "    </tr>\n",
       "    <tr>\n",
       "      <th>12</th>\n",
       "      <td>love</td>\n",
       "      <td>16702</td>\n",
       "    </tr>\n",
       "    <tr>\n",
       "      <th>13</th>\n",
       "      <td>it.</td>\n",
       "      <td>16608</td>\n",
       "    </tr>\n",
       "    <tr>\n",
       "      <th>14</th>\n",
       "      <td>works</td>\n",
       "      <td>16020</td>\n",
       "    </tr>\n",
       "    <tr>\n",
       "      <th>15</th>\n",
       "      <td>camera</td>\n",
       "      <td>15740</td>\n",
       "    </tr>\n",
       "    <tr>\n",
       "      <th>16</th>\n",
       "      <td>really</td>\n",
       "      <td>15010</td>\n",
       "    </tr>\n",
       "    <tr>\n",
       "      <th>17</th>\n",
       "      <td>even</td>\n",
       "      <td>14462</td>\n",
       "    </tr>\n",
       "    <tr>\n",
       "      <th>18</th>\n",
       "      <td>samsung</td>\n",
       "      <td>13826</td>\n",
       "    </tr>\n",
       "    <tr>\n",
       "      <th>19</th>\n",
       "      <td>i'm</td>\n",
       "      <td>13794</td>\n",
       "    </tr>\n",
       "  </tbody>\n",
       "</table>\n",
       "</div>"
      ],
      "text/plain": [
       "       word   count\n",
       "0     phone  143796\n",
       "1     great   31776\n",
       "2    phone.   29276\n",
       "3   battery   27666\n",
       "4      like   26710\n",
       "5      good   26508\n",
       "6    screen   23786\n",
       "7       one   22954\n",
       "8       get   21020\n",
       "9     would   19650\n",
       "10      use   19216\n",
       "11      new   17296\n",
       "12     love   16702\n",
       "13      it.   16608\n",
       "14    works   16020\n",
       "15   camera   15740\n",
       "16   really   15010\n",
       "17     even   14462\n",
       "18  samsung   13826\n",
       "19      i'm   13794"
      ]
     },
     "execution_count": 34,
     "metadata": {},
     "output_type": "execute_result"
    }
   ],
   "source": [
    "# Most Frequent Words\n",
    "merged_df = pd.DataFrame(top_words, columns=['word', 'count'])\n",
    "# Print Most Frequent Words\n",
    "merged_df = merged_df.sort_values(by='count', ascending=False)\n",
    "merged_df.head(20)\n",
    " "
   ]
  },
  {
   "cell_type": "code",
   "execution_count": 36,
   "metadata": {},
   "outputs": [
    {
     "name": "stderr",
     "output_type": "stream",
     "text": [
      "/tmp/ipykernel_11110/1441096686.py:5: DtypeWarning: Columns (0,1,2,5) have mixed types. Specify dtype option on import or set low_memory=False.\n",
      "  df = pd.read_csv(\"Dataset/updated_merged_dataset.csv\")\n"
     ]
    },
    {
     "name": "stdout",
     "output_type": "stream",
     "text": [
      "Percentage of negative reviews for each brand:\n",
      "ASUS        13.636364\n",
      "Apple       18.415179\n",
      "Google      18.484501\n",
      "HUAWEI       9.940358\n",
      "Motorola    14.274084\n",
      "Nokia       14.909091\n",
      "OnePlus      8.187135\n",
      "Samsung     17.243850\n",
      "Sony        12.597015\n",
      "Xiaomi       6.807964\n",
      "Name: product_brand, dtype: float64\n"
     ]
    }
   ],
   "source": [
    "from textblob import TextBlob\n",
    "import pandas as pd\n",
    "\n",
    "# Load the dataset\n",
    "df = pd.read_csv(\"Dataset/updated_merged_dataset.csv\")\n",
    "df.dropna(inplace=True)\n",
    "\n",
    "\n",
    "# Define a function to calculate the sentiment polarity of a text\n",
    "\n",
    "def get_sentiment(text):\n",
    "    blob = TextBlob(text)\n",
    "    sentiment = blob.sentiment.polarity\n",
    "    return sentiment\n",
    "\n",
    "\n",
    "# Calculate the sentiment polarity of each review\n",
    "df['sentiment'] = df['body'].apply(get_sentiment)\n",
    "\n",
    "# Calculate the percentage of negative reviews for each brand\n",
    "neg_reviews = df[df['sentiment'] < 0]\n",
    "brand_counts = neg_reviews['product_brand'].value_counts()\n",
    "total_counts = df['product_brand'].value_counts()\n",
    "neg_percents = (brand_counts / total_counts) * 100\n",
    "\n",
    "# Print the results\n",
    "print(\"Percentage of negative reviews for each brand:\")\n",
    "print(neg_percents)\n"
   ]
  },
  {
   "cell_type": "code",
   "execution_count": 37,
   "metadata": {},
   "outputs": [
    {
     "name": "stdout",
     "output_type": "stream",
     "text": [
      "Number of comments for each brand:\n",
      "Samsung     12561\n",
      "Motorola     3685\n",
      "Nokia        2750\n",
      "Apple        1792\n",
      "Google       1742\n",
      "Sony         1675\n",
      "Xiaomi       1557\n",
      "HUAWEI       1006\n",
      "OnePlus       171\n",
      "ASUS          132\n",
      "Name: product_brand, dtype: int64\n"
     ]
    }
   ],
   "source": [
    "# Count the number of comments for each brand\n",
    "brand_counts = df['product_brand'].value_counts()\n",
    "\n",
    "# Print the result\n",
    "print(\"Number of comments for each brand:\")\n",
    "print(brand_counts)\n"
   ]
  },
  {
   "cell_type": "code",
   "execution_count": 38,
   "metadata": {},
   "outputs": [
    {
     "name": "stdout",
     "output_type": "stream",
     "text": [
      "Number of negative reviews for each brand:\n",
      "Samsung     2166\n",
      "Motorola     526\n",
      "Nokia        410\n",
      "Apple        330\n",
      "Google       322\n",
      "Sony         211\n",
      "Xiaomi       106\n",
      "HUAWEI       100\n",
      "ASUS          18\n",
      "OnePlus       14\n",
      "Name: product_brand, dtype: int64\n"
     ]
    }
   ],
   "source": [
    "# Define a function to calculate the sentiment polarity of a text using TextBlob\n",
    "def get_sentiment(text):\n",
    "    blob = TextBlob(text)\n",
    "    sentiment = blob.sentiment.polarity\n",
    "    return sentiment\n",
    "\n",
    "\n",
    "# Calculate the sentiment polarity of each review\n",
    "df['sentiment'] = df['body'].apply(get_sentiment)\n",
    "\n",
    "# Filter the negative reviews by selecting only the rows where the sentiment polarity is less than 0\n",
    "neg_reviews = df[df['sentiment'] < 0]\n",
    "\n",
    "# Count the number of negative reviews for each brand\n",
    "neg_counts = neg_reviews['product_brand'].value_counts()\n",
    "\n",
    "# Print the result\n",
    "print(\"Number of negative reviews for each brand:\")\n",
    "print(neg_counts)\n"
   ]
  },
  {
   "cell_type": "code",
   "execution_count": 39,
   "metadata": {},
   "outputs": [
    {
     "name": "stdout",
     "output_type": "stream",
     "text": [
      "product_brand\n",
      "ASUS         4.651163\n",
      "Apple       17.171717\n",
      "Google       7.964602\n",
      "HUAWEI       1.872659\n",
      "Motorola     5.958132\n",
      "Nokia        5.692308\n",
      "OnePlus      0.000000\n",
      "Samsung      9.570662\n",
      "Sony         6.574394\n",
      "Xiaomi       1.366120\n",
      "Name: sentiment_polarity, dtype: float64\n"
     ]
    },
    {
     "name": "stderr",
     "output_type": "stream",
     "text": [
      "/tmp/ipykernel_11110/3369446020.py:18: SettingWithCopyWarning: \n",
      "A value is trying to be set on a copy of a slice from a DataFrame.\n",
      "Try using .loc[row_indexer,col_indexer] = value instead\n",
      "\n",
      "See the caveats in the documentation: https://pandas.pydata.org/pandas-docs/stable/user_guide/indexing.html#returning-a-view-versus-a-copy\n",
      "  camera_reviews['sentiment_polarity'] = camera_reviews['body'].apply(\n"
     ]
    }
   ],
   "source": [
    "from textblob import TextBlob\n",
    "import pandas as pd\n",
    "\n",
    "# load the dataset\n",
    "#df = pd.read_csv('your_dataset.csv')\n",
    "\n",
    "# filter reviews that mention 'camera'\n",
    "camera_reviews = df[df['body'].str.contains('camera')]\n",
    "\n",
    "# define function to calculate sentiment polarity\n",
    "\n",
    "\n",
    "def get_sentiment_polarity(text):\n",
    "    return TextBlob(text).sentiment.polarity\n",
    "\n",
    "\n",
    "# calculate sentiment polarity for each review\n",
    "camera_reviews['sentiment_polarity'] = camera_reviews['body'].apply(\n",
    "    lambda x: get_sentiment_polarity(x))\n",
    "\n",
    "# group by 'product_brand' and calculate percentage of negative reviews\n",
    "camera_sentiments = camera_reviews.groupby('product_brand')[\n",
    "    'sentiment_polarity'].apply(lambda x: (x < 0).sum() / len(x) * 100)\n",
    "\n",
    "# print the percentage of negative reviews for each brand\n",
    "print(camera_sentiments)\n"
   ]
  },
  {
   "cell_type": "code",
   "execution_count": 40,
   "metadata": {},
   "outputs": [
    {
     "name": "stderr",
     "output_type": "stream",
     "text": [
      "/tmp/ipykernel_11110/2869873616.py:12: SettingWithCopyWarning: \n",
      "A value is trying to be set on a copy of a slice from a DataFrame.\n",
      "Try using .loc[row_indexer,col_indexer] = value instead\n",
      "\n",
      "See the caveats in the documentation: https://pandas.pydata.org/pandas-docs/stable/user_guide/indexing.html#returning-a-view-versus-a-copy\n",
      "  screen_reviews['sentiment_polarity'] = screen_reviews['body'].apply(\n"
     ]
    },
    {
     "name": "stdout",
     "output_type": "stream",
     "text": [
      "Percentage for screen\n",
      "product_brand\n",
      "ASUS         2.777778\n",
      "Apple       26.415094\n",
      "Google      18.435754\n",
      "HUAWEI       4.854369\n",
      "Motorola    10.444178\n",
      "Nokia        8.393632\n",
      "OnePlus      5.714286\n",
      "Samsung     17.786012\n",
      "Sony         7.640068\n",
      "Xiaomi       5.135952\n",
      "Name: sentiment_polarity, dtype: float64\n",
      "Percentage for battery\n",
      "product_brand\n",
      "ASUS         8.571429\n",
      "Apple       18.823529\n",
      "Google      10.725552\n",
      "HUAWEI       2.739726\n",
      "Motorola     9.030418\n",
      "Nokia        9.811321\n",
      "OnePlus      0.000000\n",
      "Samsung     14.485459\n",
      "Sony         7.455013\n",
      "Xiaomi       3.715170\n",
      "Name: sentiment_polarity, dtype: float64\n"
     ]
    },
    {
     "name": "stderr",
     "output_type": "stream",
     "text": [
      "/tmp/ipykernel_11110/2869873616.py:28: SettingWithCopyWarning: \n",
      "A value is trying to be set on a copy of a slice from a DataFrame.\n",
      "Try using .loc[row_indexer,col_indexer] = value instead\n",
      "\n",
      "See the caveats in the documentation: https://pandas.pydata.org/pandas-docs/stable/user_guide/indexing.html#returning-a-view-versus-a-copy\n",
      "  battery_reviews['sentiment_polarity'] = battery_reviews['body'].apply(\n"
     ]
    }
   ],
   "source": [
    "\n",
    "# filter reviews that mention 'screen'\n",
    "screen_reviews = df[df['body'].str.contains('screen')]\n",
    "\n",
    "# define function to calculate sentiment polarity\n",
    "\n",
    "\n",
    "def get_sentiment_polarity(text):\n",
    "    return TextBlob(text).sentiment.polarity\n",
    "\n",
    "\n",
    "# calculate sentiment polarity for each review\n",
    "screen_reviews['sentiment_polarity'] = screen_reviews['body'].apply(\n",
    "    lambda x: get_sentiment_polarity(x))\n",
    "\n",
    "# group by 'product_brand' and calculate percentage of negative reviews\n",
    "screen_sentiments = screen_reviews.groupby('product_brand')[\n",
    "    'sentiment_polarity'].apply(lambda x: (x < 0).sum() / len(x) * 100)\n",
    "\n",
    "# print the percentage of negative reviews for each brand\n",
    "print('Percentage for screen')\n",
    "print(screen_sentiments)\n",
    "\n",
    "\n",
    "# filter reviews that mention 'battery'\n",
    "battery_reviews = df[df['body'].str.contains('battery')]\n",
    "\n",
    "# calculate sentiment polarity for each review\n",
    "battery_reviews['sentiment_polarity'] = battery_reviews['body'].apply(\n",
    "    lambda x: get_sentiment_polarity(x))\n",
    "\n",
    "# group by 'product_brand' and calculate percentage of negative reviews\n",
    "battery_sentiments = battery_reviews.groupby('product_brand')[\n",
    "    'sentiment_polarity'].apply(lambda x: (x < 0).sum() / len(x) * 100)\n",
    "\n",
    "# print the percentage of negative reviews for each brand\n",
    "print('Percentage for battery')\n",
    "print(battery_sentiments)\n"
   ]
  },
  {
   "cell_type": "code",
   "execution_count": 41,
   "metadata": {},
   "outputs": [
    {
     "name": "stdout",
     "output_type": "stream",
     "text": [
      "product_brand\n",
      "ASUS          5\n",
      "Apple        60\n",
      "Google       34\n",
      "HUAWEI       27\n",
      "Motorola     86\n",
      "Nokia        41\n",
      "OnePlus      10\n",
      "Samsung     293\n",
      "Sony         25\n",
      "Xiaomi       43\n",
      "Name: product_model_name, dtype: int64\n"
     ]
    }
   ],
   "source": [
    "# Count and print the number of Model each brand has and show in a table\n",
    "brand_model = df.groupby('product_brand')['product_model_name'].nunique()\n",
    "print(brand_model)"
   ]
  },
  {
   "cell_type": "code",
   "execution_count": 42,
   "metadata": {},
   "outputs": [
    {
     "name": "stdout",
     "output_type": "stream",
     "text": [
      "The Samsung model with the highest sentiment polarity is: Samsung Galaxy S7 Edge 32GB G935A GSM Unlocked - Pink Gold\n"
     ]
    },
    {
     "name": "stderr",
     "output_type": "stream",
     "text": [
      "/tmp/ipykernel_11110/3329265750.py:9: SettingWithCopyWarning: \n",
      "A value is trying to be set on a copy of a slice from a DataFrame.\n",
      "Try using .loc[row_indexer,col_indexer] = value instead\n",
      "\n",
      "See the caveats in the documentation: https://pandas.pydata.org/pandas-docs/stable/user_guide/indexing.html#returning-a-view-versus-a-copy\n",
      "  samsung_reviews['sentiment_polarity'] = samsung_reviews['body'].apply(lambda x: get_sentiment_polarity(x))\n"
     ]
    }
   ],
   "source": [
    "# filter reviews that belong to Samsung brand\n",
    "samsung_reviews = df[df['product_brand'] == 'Samsung']\n",
    "\n",
    "# define function to calculate sentiment polarity\n",
    "def get_sentiment_polarity(text):\n",
    "    return TextBlob(text).sentiment.polarity\n",
    "\n",
    "# calculate sentiment polarity for each review\n",
    "samsung_reviews['sentiment_polarity'] = samsung_reviews['body'].apply(lambda x: get_sentiment_polarity(x))\n",
    "\n",
    "# calculate the average sentiment polarity for each Samsung model\n",
    "model_sentiments = samsung_reviews.groupby('product_model_name')['sentiment_polarity'].mean()\n",
    "\n",
    "# sort the models based on their average sentiment polarity in descending order\n",
    "sorted_models = model_sentiments.sort_values(ascending=False)\n",
    "\n",
    "# print the model with the highest average sentiment polarity\n",
    "print(\"The Samsung model with the highest sentiment polarity is:\", sorted_models.index[0])\n"
   ]
  },
  {
   "cell_type": "code",
   "execution_count": 43,
   "metadata": {},
   "outputs": [
    {
     "name": "stderr",
     "output_type": "stream",
     "text": [
      "/tmp/ipykernel_11110/3191804799.py:19: SettingWithCopyWarning: \n",
      "A value is trying to be set on a copy of a slice from a DataFrame.\n",
      "Try using .loc[row_indexer,col_indexer] = value instead\n",
      "\n",
      "See the caveats in the documentation: https://pandas.pydata.org/pandas-docs/stable/user_guide/indexing.html#returning-a-view-versus-a-copy\n",
      "  brand_reviews['sentiment_polarity'] = brand_reviews['body'].apply(\n",
      "/tmp/ipykernel_11110/3191804799.py:30: FutureWarning: The frame.append method is deprecated and will be removed from pandas in a future version. Use pandas.concat instead.\n",
      "  results_df = results_df.append(\n",
      "/tmp/ipykernel_11110/3191804799.py:19: SettingWithCopyWarning: \n",
      "A value is trying to be set on a copy of a slice from a DataFrame.\n",
      "Try using .loc[row_indexer,col_indexer] = value instead\n",
      "\n",
      "See the caveats in the documentation: https://pandas.pydata.org/pandas-docs/stable/user_guide/indexing.html#returning-a-view-versus-a-copy\n",
      "  brand_reviews['sentiment_polarity'] = brand_reviews['body'].apply(\n",
      "/tmp/ipykernel_11110/3191804799.py:30: FutureWarning: The frame.append method is deprecated and will be removed from pandas in a future version. Use pandas.concat instead.\n",
      "  results_df = results_df.append(\n",
      "/tmp/ipykernel_11110/3191804799.py:19: SettingWithCopyWarning: \n",
      "A value is trying to be set on a copy of a slice from a DataFrame.\n",
      "Try using .loc[row_indexer,col_indexer] = value instead\n",
      "\n",
      "See the caveats in the documentation: https://pandas.pydata.org/pandas-docs/stable/user_guide/indexing.html#returning-a-view-versus-a-copy\n",
      "  brand_reviews['sentiment_polarity'] = brand_reviews['body'].apply(\n",
      "/tmp/ipykernel_11110/3191804799.py:30: FutureWarning: The frame.append method is deprecated and will be removed from pandas in a future version. Use pandas.concat instead.\n",
      "  results_df = results_df.append(\n",
      "/tmp/ipykernel_11110/3191804799.py:19: SettingWithCopyWarning: \n",
      "A value is trying to be set on a copy of a slice from a DataFrame.\n",
      "Try using .loc[row_indexer,col_indexer] = value instead\n",
      "\n",
      "See the caveats in the documentation: https://pandas.pydata.org/pandas-docs/stable/user_guide/indexing.html#returning-a-view-versus-a-copy\n",
      "  brand_reviews['sentiment_polarity'] = brand_reviews['body'].apply(\n",
      "/tmp/ipykernel_11110/3191804799.py:30: FutureWarning: The frame.append method is deprecated and will be removed from pandas in a future version. Use pandas.concat instead.\n",
      "  results_df = results_df.append(\n",
      "/tmp/ipykernel_11110/3191804799.py:19: SettingWithCopyWarning: \n",
      "A value is trying to be set on a copy of a slice from a DataFrame.\n",
      "Try using .loc[row_indexer,col_indexer] = value instead\n",
      "\n",
      "See the caveats in the documentation: https://pandas.pydata.org/pandas-docs/stable/user_guide/indexing.html#returning-a-view-versus-a-copy\n",
      "  brand_reviews['sentiment_polarity'] = brand_reviews['body'].apply(\n",
      "/tmp/ipykernel_11110/3191804799.py:30: FutureWarning: The frame.append method is deprecated and will be removed from pandas in a future version. Use pandas.concat instead.\n",
      "  results_df = results_df.append(\n",
      "/tmp/ipykernel_11110/3191804799.py:19: SettingWithCopyWarning: \n",
      "A value is trying to be set on a copy of a slice from a DataFrame.\n",
      "Try using .loc[row_indexer,col_indexer] = value instead\n",
      "\n",
      "See the caveats in the documentation: https://pandas.pydata.org/pandas-docs/stable/user_guide/indexing.html#returning-a-view-versus-a-copy\n",
      "  brand_reviews['sentiment_polarity'] = brand_reviews['body'].apply(\n",
      "/tmp/ipykernel_11110/3191804799.py:30: FutureWarning: The frame.append method is deprecated and will be removed from pandas in a future version. Use pandas.concat instead.\n",
      "  results_df = results_df.append(\n",
      "/tmp/ipykernel_11110/3191804799.py:19: SettingWithCopyWarning: \n",
      "A value is trying to be set on a copy of a slice from a DataFrame.\n",
      "Try using .loc[row_indexer,col_indexer] = value instead\n",
      "\n",
      "See the caveats in the documentation: https://pandas.pydata.org/pandas-docs/stable/user_guide/indexing.html#returning-a-view-versus-a-copy\n",
      "  brand_reviews['sentiment_polarity'] = brand_reviews['body'].apply(\n",
      "/tmp/ipykernel_11110/3191804799.py:30: FutureWarning: The frame.append method is deprecated and will be removed from pandas in a future version. Use pandas.concat instead.\n",
      "  results_df = results_df.append(\n",
      "/tmp/ipykernel_11110/3191804799.py:19: SettingWithCopyWarning: \n",
      "A value is trying to be set on a copy of a slice from a DataFrame.\n",
      "Try using .loc[row_indexer,col_indexer] = value instead\n",
      "\n",
      "See the caveats in the documentation: https://pandas.pydata.org/pandas-docs/stable/user_guide/indexing.html#returning-a-view-versus-a-copy\n",
      "  brand_reviews['sentiment_polarity'] = brand_reviews['body'].apply(\n",
      "/tmp/ipykernel_11110/3191804799.py:30: FutureWarning: The frame.append method is deprecated and will be removed from pandas in a future version. Use pandas.concat instead.\n",
      "  results_df = results_df.append(\n"
     ]
    },
    {
     "name": "stdout",
     "output_type": "stream",
     "text": [
      "      Brand                                              Model  \\\n",
      "0  Motorola  Motorola Moto E5 Cruise Unlocked 4G LTE (Crick...   \n",
      "1     Nokia  Nokia Lumia 520 Quad-Band GSM Unlocked Smartph...   \n",
      "2    HUAWEI  Huawei P30 Lite (128GB, 4GB RAM) 6.15\" Display...   \n",
      "3      Sony  Sony Xperia XA1 Plus - Unlocked Smartphone - 5...   \n",
      "4     Apple  Apple iPhone 7 256GB Unlocked GSM 4G LTE Quad-...   \n",
      "5    Google  Google Pixel 3a XL Verizon Just Black, 64GB (R...   \n",
      "6      ASUS  Asus - ZenFone Live with 16GB Memory Cell Phon...   \n",
      "7   OnePlus  OnePlus 7 Pro 256GB ROM 8GB RAM Factory Unlock...   \n",
      "8    Xiaomi  Xiaomi Mi 9 Lite 64GB + 6GB RAM, 6.39” AMOLED ...   \n",
      "\n",
      "   Sentiment Polarity  \n",
      "0            0.800000  \n",
      "1            0.627778  \n",
      "2            0.725000  \n",
      "3            0.330018  \n",
      "4            0.500000  \n",
      "5            0.900000  \n",
      "6            1.000000  \n",
      "7            0.369902  \n",
      "8            0.566667  \n"
     ]
    },
    {
     "name": "stderr",
     "output_type": "stream",
     "text": [
      "/tmp/ipykernel_11110/3191804799.py:19: SettingWithCopyWarning: \n",
      "A value is trying to be set on a copy of a slice from a DataFrame.\n",
      "Try using .loc[row_indexer,col_indexer] = value instead\n",
      "\n",
      "See the caveats in the documentation: https://pandas.pydata.org/pandas-docs/stable/user_guide/indexing.html#returning-a-view-versus-a-copy\n",
      "  brand_reviews['sentiment_polarity'] = brand_reviews['body'].apply(\n",
      "/tmp/ipykernel_11110/3191804799.py:30: FutureWarning: The frame.append method is deprecated and will be removed from pandas in a future version. Use pandas.concat instead.\n",
      "  results_df = results_df.append(\n"
     ]
    }
   ],
   "source": [
    "\n",
    "# define function to calculate sentiment polarity\n",
    "\n",
    "\n",
    "def get_sentiment_polarity(text):\n",
    "    return TextBlob(text).sentiment.polarity\n",
    "\n",
    "\n",
    "# create an empty dataframe to store the results\n",
    "results_df = pd.DataFrame(columns=['Brand', 'Model', 'Sentiment Polarity'])\n",
    "\n",
    "# loop through each brand\n",
    "brands = ['Motorola', 'Nokia', 'HUAWEI', 'Sony',\n",
    "          'Apple', 'Google', 'ASUS', 'OnePlus', 'Xiaomi']\n",
    "for brand in brands:\n",
    "    # filter reviews that belong to the current brand\n",
    "    brand_reviews = df[df['product_brand'] == brand]\n",
    "\n",
    "    # calculate sentiment polarity for each review\n",
    "    brand_reviews['sentiment_polarity'] = brand_reviews['body'].apply(\n",
    "        lambda x: get_sentiment_polarity(x))\n",
    "\n",
    "    # calculate the average sentiment polarity for each model\n",
    "    model_sentiments = brand_reviews.groupby('product_model_name')[\n",
    "        'sentiment_polarity'].mean()\n",
    "\n",
    "    # sort the models based on their average sentiment polarity in descending order\n",
    "    sorted_models = model_sentiments.sort_values(ascending=False)\n",
    "\n",
    "    # add the brand and model with the highest sentiment polarity to the results dataframe\n",
    "    results_df = results_df.append(\n",
    "        {'Brand': brand, 'Model': sorted_models.index[0], 'Sentiment Polarity': sorted_models.iloc[0]}, ignore_index=True)\n",
    "\n",
    "# display the results dataframe\n",
    "print(results_df)\n"
   ]
  },
  {
   "cell_type": "code",
   "execution_count": 44,
   "metadata": {},
   "outputs": [
    {
     "name": "stdout",
     "output_type": "stream",
     "text": [
      "Total reviews that mention a price-related keyword: 5442\n"
     ]
    }
   ],
   "source": [
    "\n",
    "# create a list of price-related keywords to search for\n",
    "price_keywords = ['price', 'cost', 'value', 'expensive', 'affordable', 'budget', 'cheap', 'overpriced', 'inexpensive']\n",
    "\n",
    "# create a new column in the dataframe to indicate if the review mentions a price-related keyword\n",
    "df['mentions_price'] = df['body'].apply(lambda x: any(word in x.lower() for word in price_keywords))\n",
    "\n",
    "# create a new dataframe that only includes reviews that mention a price-related keyword\n",
    "price_df = df[df['mentions_price'] == True]\n",
    "\n",
    "# print the total number of reviews that mention a price-related keyword\n",
    "print(f'Total reviews that mention a price-related keyword: {len(price_df)}')\n"
   ]
  },
  {
   "cell_type": "code",
   "execution_count": 45,
   "metadata": {},
   "outputs": [
    {
     "name": "stdout",
     "output_type": "stream",
     "text": [
      "{'': 38796, 'price': 3848, 'cost': 702, 'expensive': 596, 'affordable': 142, 'budget': 400, 'expense': 32}\n"
     ]
    }
   ],
   "source": [
    "import pandas as pd\n",
    "import re\n",
    "\n",
    "#Create an empty dictionary\n",
    "price_words = {}\n",
    "\n",
    "#Iterate over each row in the body column\n",
    "for body in df['body']:\n",
    "    #Find all numbers and the words price, cost, expense, affordable, budget, expensive\n",
    "    matches = re.findall(r'\\b\\d+(?:\\.\\d+)?\\b|\\b(price|cost|expense|affordable|budget|expensive)\\b', body, flags=re.IGNORECASE)\n",
    "    \n",
    "    #Iterate over each match\n",
    "    for match in matches:\n",
    "        #If the match is a string, add it to the dictionary\n",
    "        if type(match) == str:\n",
    "            if match.lower() in price_words:\n",
    "                price_words[match.lower()] += 1\n",
    "            else:\n",
    "                price_words[match.lower()] = 1\n",
    "        \n",
    "        #If the match is a number, add it to the dictionary\n",
    "        else:\n",
    "            if match.group(0).lower() in price_words:\n",
    "                price_words[match.group(0).lower()] += 1\n",
    "            else:\n",
    "                price_words[match.group(0).lower()] = 1\n",
    "\n",
    "#Print the dictionary\n",
    "print(price_words)\n"
   ]
  },
  {
   "cell_type": "code",
   "execution_count": 46,
   "metadata": {},
   "outputs": [
    {
     "name": "stdout",
     "output_type": "stream",
     "text": [
      "{'ASUS': 0.0, 'Apple': 0.11, 'Google': 0.21, 'HUAWEI': 0.04, 'Motorola': 0.18, 'Nokia': 0.16, 'OnePlus': 0.01, 'Samsung': 0.58, 'Sony': 0.09, 'Xiaomi': 0.04}\n"
     ]
    }
   ],
   "source": [
    "# Define price-related words\n",
    "price_related_words = ['price', 'cost', 'expensive', 'affordable', 'budget', 'expense']\n",
    "\n",
    "# Count the frequency of each price-related word in the review body\n",
    "price_word_count = df['body'].str.count('|'.join(price_related_words), flags=re.IGNORECASE).sum()\n",
    "\n",
    "# Initialize a dictionary to store the count of negative comments for each brand\n",
    "negative_count = {'ASUS': 0, 'Apple': 0, 'Google': 0, 'HUAWEI': 0, 'Motorola': 0, 'Nokia': 0, 'OnePlus': 0, 'Samsung': 0, 'Sony': 0, 'Xiaomi': 0}\n",
    "\n",
    "# Loop through each review and increment the negative count for the corresponding brand if the sentiment polarity is negative\n",
    "for index, row in df.iterrows():\n",
    "    review = row['body']\n",
    "    brand = row['product_brand']\n",
    "    for word in price_related_words:\n",
    "        if word in review:\n",
    "            blob = TextBlob(review)\n",
    "            if blob.sentiment.polarity < 0:\n",
    "                negative_count[brand] += 1\n",
    "\n",
    "# Compute the percentage of negative comments for each brand\n",
    "total_reviews = df['product_brand'].value_counts().sum()\n",
    "negative_percentage = {}\n",
    "for brand, count in negative_count.items():\n",
    "    negative_percentage[brand] = round((count / total_reviews) * 100, 2)\n",
    "\n",
    "# Print the results\n",
    "print(negative_percentage)"
   ]
  }
 ],
 "metadata": {
  "kernelspec": {
   "display_name": "Python 3 (ipykernel)",
   "language": "python",
   "name": "python3"
  },
  "language_info": {
   "codemirror_mode": {
    "name": "ipython",
    "version": 3
   },
   "file_extension": ".py",
   "mimetype": "text/x-python",
   "name": "python",
   "nbconvert_exporter": "python",
   "pygments_lexer": "ipython3",
   "version": "3.10.4"
  },
  "vscode": {
   "interpreter": {
    "hash": "28328718739f0b0dcd54909b78dca6ccaf0c916f6b7d08f276d2b5deebde5e28"
   }
  }
 },
 "nbformat": 4,
 "nbformat_minor": 2
}
